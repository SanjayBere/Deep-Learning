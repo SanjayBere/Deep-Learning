﻿{
 "cells": [
  {
   "cell_type": "markdown",
   "metadata": {},
   "source": [
    "# Case Study: Predicting Virus Contraction with a Neural Net with Python"
   ]
  },
  {
   "cell_type": "markdown",
   "metadata": {},
   "source": [
    "For this example, our goal is to predict whether a person is positive for a virus or not based on the given input features. \n",
    "\n",
    "Here 1 represents “Yes” and 0 represents “No”."
   ]
  },
  {
   "attachments": {
    "case%20study.PNG": {
     "image/png": "[encoded data removed]"
    }
   },
   "cell_type": "markdown",
   "metadata": {},
   "source": [
    "![case%20study.PNG](attachment:case%20study.PNG)"
   ]
  },
  {
   "cell_type": "markdown",
   "metadata": {},
   "source": [
    "### a. Import required libraries:\n"
   ]
  },
  {
   "cell_type": "code",
   "execution_count": 1,
   "metadata": {},
   "outputs": [],
   "source": [
    "import numpy as np"
   ]
  },
  {
   "cell_type": "markdown",
   "metadata": {},
   "source": [
    "### b. Input features:"
   ]
  },
  {
   "cell_type": "code",
   "execution_count": 13,
   "metadata": {},
   "outputs": [
    {
     "name": "stdout",
     "output_type": "stream",
     "text": [
      "(8, 4)\n"
     ]
    },
    {
     "data": {
      "text/plain": [
       "array([[1, 0, 0, 1],\n",
       "       [1, 0, 0, 0],\n",
       "       [0, 0, 1, 1],\n",
       "       [0, 1, 0, 0],\n",
       "       [1, 1, 0, 0],\n",
       "       [0, 0, 1, 1],\n",
       "       [0, 0, 0, 1],\n",
       "       [0, 0, 1, 0]])"
      ]
     },
     "execution_count": 13,
     "metadata": {},
     "output_type": "execute_result"
    }
   ],
   "source": [
    "input_features = np.array([[1,0,0,1],[1,0,0,0],[0,0,1,1],[0,1,0,0],[1,1,0,0],[0,0,1,1],[0,0,0,1],[0,0,1,0]])\n",
    "print(input_features.shape)\n",
    "input_features "
   ]
  },
  {
   "cell_type": "markdown",
   "metadata": {},
   "source": [
    "### c. Target output:"
   ]
  },
  {
   "cell_type": "code",
   "execution_count": 14,
   "metadata": {},
   "outputs": [
    {
     "name": "stdout",
     "output_type": "stream",
     "text": [
      "(8, 1)\n"
     ]
    },
    {
     "data": {
      "text/plain": [
       "array([[1],\n",
       "       [1],\n",
       "       [0],\n",
       "       [0],\n",
       "       [1],\n",
       "       [1],\n",
       "       [0],\n",
       "       [0]])"
      ]
     },
     "execution_count": 14,
     "metadata": {},
     "output_type": "execute_result"
    }
   ],
   "source": [
    "#Defining Target features\n",
    "target_features = np.array([[1,1,0,0,1,1,0,0]])\n",
    "\n",
    "target_features = target_features.reshape(8,1)\n",
    "print(target_features.shape)\n",
    "\n",
    "target_features"
   ]
  },
  {
   "cell_type": "markdown",
   "metadata": {},
   "source": [
    "### d. Define weights:"
   ]
  },
  {
   "cell_type": "code",
   "execution_count": 15,
   "metadata": {},
   "outputs": [
    {
     "name": "stdout",
     "output_type": "stream",
     "text": [
      "(4, 1)\n"
     ]
    },
    {
     "data": {
      "text/plain": [
       "array([[0.1],\n",
       "       [0.2],\n",
       "       [0.3],\n",
       "       [0.4]])"
      ]
     },
     "execution_count": 15,
     "metadata": {},
     "output_type": "execute_result"
    }
   ],
   "source": [
    "weights = np.array([[0.1],[0.2],[0.3],[0.4]])\n",
    "print(weights.shape)\n",
    "weights"
   ]
  },
  {
   "cell_type": "markdown",
   "metadata": {},
   "source": [
    "### e. Bias value and learning rate:"
   ]
  },
  {
   "cell_type": "code",
   "execution_count": 16,
   "metadata": {},
   "outputs": [],
   "source": [
    "#bias weight\n",
    "bias = 0.3\n",
    "\n",
    "#learning rate\n",
    "learning_rate = 0.05"
   ]
  },
  {
   "cell_type": "markdown",
   "metadata": {},
   "source": [
    "### f. Sigmoid function:"
   ]
  },
  {
   "cell_type": "code",
   "execution_count": 17,
   "metadata": {},
   "outputs": [],
   "source": [
    "def sigmoid(x):\n",
    "    return (1/(1+np.exp(-x)))"
   ]
  },
  {
   "cell_type": "markdown",
   "metadata": {},
   "source": [
    "### g. Derivative of sigmoid function:"
   ]
  },
  {
   "cell_type": "code",
   "execution_count": 18,
   "metadata": {},
   "outputs": [],
   "source": [
    "def sigmoid_der(x):\n",
    "    return (sigmoid(x)*(1 - sigmoid(x)))"
   ]
  },
  {
   "cell_type": "markdown",
   "metadata": {},
   "source": [
    "### h. The main logic for training model:"
   ]
  },
  {
   "cell_type": "code",
   "execution_count": 20,
   "metadata": {},
   "outputs": [],
   "source": [
    "for epoch in range(10000):\n",
    "    inputs = input_features\n",
    "    \n",
    "    #FeedForward input\n",
    "    pred_in = np.dot(inputs,weights) + bias\n",
    "    \n",
    "    #Feedforward Output\n",
    "    pred_out = sigmoid(pred_in)\n",
    "    \n",
    "    #Backpropogation\n",
    "    #Calculating Error\n",
    "    error = pred_out - target_features\n",
    "    x = error.sum()\n",
    "    \n",
    "    #print(x)\n",
    "    \n",
    "    #Calculating Derivative\n",
    "    dcost_dpred = error\n",
    "    dpred_dz = sigmoid_der(pred_out)\n",
    "    \n",
    "    #Multiplying individual derivatives\n",
    "    z_delta = dcost_dpred * dpred_dz\n",
    "    \n",
    "    #Multiplying with 3rd individual \n",
    "    inputs = input_features.T\n",
    "    weights -= learning_rate * (np.dot(inputs , z_delta))\n",
    "    \n",
    "    #Updating the bias weight value\n",
    "    for i in z_delta:\n",
    "        bias -= learning_rate * i\n",
    "    "
   ]
  },
  {
   "cell_type": "markdown",
   "metadata": {},
   "source": [
    "### i. Making predictions:\n",
    "\n",
    "\n"
   ]
  },
  {
   "cell_type": "code",
   "execution_count": 21,
   "metadata": {},
   "outputs": [
    {
     "name": "stdout",
     "output_type": "stream",
     "text": [
      "[0.99976003]\n"
     ]
    }
   ],
   "source": [
    "#Taking inputes \n",
    "single_point = np.array([1,0,0,1])\n",
    "\n",
    "#1st step\n",
    "result1 = np.dot(single_point,weights) + bias\n",
    "\n",
    "#2nd step\n",
    "result2 = sigmoid(result1)\n",
    "\n",
    "#print final result \n",
    "print(result2)"
   ]
  },
  {
   "cell_type": "markdown",
   "metadata": {},
   "source": [
    "#### i.a. A tested person is positive for the virus."
   ]
  },
  {
   "cell_type": "markdown",
   "metadata": {},
   "source": [
    "### Making Prediction"
   ]
  },
  {
   "cell_type": "code",
   "execution_count": 24,
   "metadata": {},
   "outputs": [
    {
     "name": "stdout",
     "output_type": "stream",
     "text": [
      "[0.02222487]\n"
     ]
    }
   ],
   "source": [
    "#Taking inputes \n",
    "single_point = np.array([0,0,1,0])\n",
    "\n",
    "#1st step\n",
    "result1 = np.dot(single_point,weights) + bias\n",
    "\n",
    "#2nd step\n",
    "result2 = sigmoid(result1)\n",
    "\n",
    "#print final result \n",
    "print(result2)"
   ]
  },
  {
   "cell_type": "markdown",
   "metadata": {},
   "source": [
    "#### i.e A tested person is Negative for the virus"
   ]
  },
  {
   "cell_type": "code",
   "execution_count": null,
   "metadata": {},
   "outputs": [],
   "source": []
  }
 ],
 "metadata": {
  "kernelspec": {
   "display_name": "Python 3",
   "language": "python",
   "name": "python3"
  },
  "language_info": {
   "codemirror_mode": {
    "name": "ipython",
    "version": 3
   },
   "file_extension": ".py",
   "mimetype": "text/x-python",
   "name": "python",
   "nbconvert_exporter": "python",
   "pygments_lexer": "ipython3",
   "version": "3.7.4"
  }
 },
 "nbformat": 4,
 "nbformat_minor": 2
}
