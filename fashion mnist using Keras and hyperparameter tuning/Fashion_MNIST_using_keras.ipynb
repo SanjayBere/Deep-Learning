﻿{
  "nbformat": 4,
  "nbformat_minor": 0,
  "metadata": {
    "colab": {
      "name": "Fashion-MNIST - using keras.ipynb",
      "provenance": [],
      "collapsed_sections": []
    },
    "kernelspec": {
      "name": "python3",
      "display_name": "Python 3"
    },
    "accelerator": "GPU"
  },
  "cells": [
    {
      "cell_type": "code",
      "metadata": {
        "id": "ytN9zBe64M0K",
        "colab_type": "code",
        "colab": {}
      },
      "source": [
        "from keras.utils import np_utils\n",
        "from keras.datasets import mnist\n",
        "import seaborn as sns\n",
        "from keras.initializers import RandomNormal"
      ],
      "execution_count": 44,
      "outputs": []
    },
    {
      "cell_type": "code",
      "metadata": {
        "id": "DBW3vRNV4uej",
        "colab_type": "code",
        "colab": {}
      },
      "source": [
        "%matplotlib inline\n",
        "import numpy as np\n",
        "import matplotlib.pyplot as plt\n",
        "import time\n",
        "\n",
        "#this function is used to update the plot of each epoch VS error\n",
        "def plt_dynamic(x , vy , ty , ax , colors = ['b']):\n",
        "  ax.plot(x, vy, 'b', label = 'Validation Loss')\n",
        "  ax.plot(x, ty, 'r' , label = 'Train Loss')\n",
        "  plt.legend()\n",
        "  plt.grid()\n",
        "  fig.canvas.draw()\n"
      ],
      "execution_count": 45,
      "outputs": []
    },
    {
      "cell_type": "code",
      "metadata": {
        "id": "Z_T1dy_g5tw-",
        "colab_type": "code",
        "colab": {}
      },
      "source": [
        "# the data shuffeled and split between the train and test\n",
        "(X_train , y_train),(X_test , y_test) = mnist.load_data()"
      ],
      "execution_count": 46,
      "outputs": []
    },
    {
      "cell_type": "code",
      "metadata": {
        "id": "J7KtMB-b6BTT",
        "colab_type": "code",
        "colab": {
          "base_uri": "https://localhost:8080/",
          "height": 51
        },
        "outputId": "70ea65b7-8254-4630-9a52-641b6522148d"
      },
      "source": [
        "print(\"Number of training examples :\", X_train.shape[0], \"and each image is of shape (%d, %d)\"%(X_train.shape[1], X_train.shape[2]))\n",
        "print(\"Number of training examples :\", X_test.shape[0], \"and each image is of shape (%d, %d)\"%(X_test.shape[1], X_test.shape[2]))"
      ],
      "execution_count": 47,
      "outputs": [
        {
          "output_type": "stream",
          "text": [
            "Number of training examples : 60000 and each image is of shape (28, 28)\n",
            "Number of training examples : 10000 and each image is of shape (28, 28)\n"
          ],
          "name": "stdout"
        }
      ]
    },
    {
      "cell_type": "code",
      "metadata": {
        "id": "onISlx1d6JdI",
        "colab_type": "code",
        "colab": {}
      },
      "source": [
        "# if you observe the input shape its 2 dimensional vector\n",
        "# for each image we have a (28*28) vector\n",
        "# we will convert the (28*28) vector into single dimensional vector of 1 * 784 \n",
        "\n",
        "X_train = X_train.reshape(X_train.shape[0] , X_train.shape[1]*X_train.shape[2])\n",
        "X_test = X_test.reshape(X_test.shape[0] , X_test.shape[1]*X_test.shape[2])\n"
      ],
      "execution_count": 48,
      "outputs": []
    },
    {
      "cell_type": "code",
      "metadata": {
        "id": "R8fkz6Pa7oXz",
        "colab_type": "code",
        "colab": {
          "base_uri": "https://localhost:8080/",
          "height": 51
        },
        "outputId": "81d9ff9f-f34a-4bab-82f2-0ac49508a5db"
      },
      "source": [
        "# after converting the input images from 3d to 2d vectors\n",
        "\n",
        "print(\"Number of training examples :\", X_train.shape[0], \"and each image is of shape (%d)\"%(X_train.shape[1]))\n",
        "print(\"Number of training examples :\", X_test.shape[0], \"and each image is of shape (%d)\"%(X_test.shape[1]))"
      ],
      "execution_count": 49,
      "outputs": [
        {
          "output_type": "stream",
          "text": [
            "Number of training examples : 60000 and each image is of shape (784)\n",
            "Number of training examples : 10000 and each image is of shape (784)\n"
          ],
          "name": "stdout"
        }
      ]
    },
    {
      "cell_type": "code",
      "metadata": {
        "id": "aGmc0NuX8so3",
        "colab_type": "code",
        "colab": {
          "base_uri": "https://localhost:8080/",
          "height": 1000
        },
        "outputId": "cc2e52a8-5243-458a-bb13-970328489bfc"
      },
      "source": [
        "X_train[0]"
      ],
      "execution_count": 50,
      "outputs": [
        {
          "output_type": "execute_result",
          "data": {
            "text/plain": [
              "array([  0,   0,   0,   0,   0,   0,   0,   0,   0,   0,   0,   0,   0,\n",
              "         0,   0,   0,   0,   0,   0,   0,   0,   0,   0,   0,   0,   0,\n",
              "         0,   0,   0,   0,   0,   0,   0,   0,   0,   0,   0,   0,   0,\n",
              "         0,   0,   0,   0,   0,   0,   0,   0,   0,   0,   0,   0,   0,\n",
              "         0,   0,   0,   0,   0,   0,   0,   0,   0,   0,   0,   0,   0,\n",
              "         0,   0,   0,   0,   0,   0,   0,   0,   0,   0,   0,   0,   0,\n",
              "         0,   0,   0,   0,   0,   0,   0,   0,   0,   0,   0,   0,   0,\n",
              "         0,   0,   0,   0,   0,   0,   0,   0,   0,   0,   0,   0,   0,\n",
              "         0,   0,   0,   0,   0,   0,   0,   0,   0,   0,   0,   0,   0,\n",
              "         0,   0,   0,   0,   0,   0,   0,   0,   0,   0,   0,   0,   0,\n",
              "         0,   0,   0,   0,   0,   0,   0,   0,   0,   0,   0,   0,   0,\n",
              "         0,   0,   0,   0,   0,   0,   0,   0,   0,   3,  18,  18,  18,\n",
              "       126, 136, 175,  26, 166, 255, 247, 127,   0,   0,   0,   0,   0,\n",
              "         0,   0,   0,   0,   0,   0,   0,  30,  36,  94, 154, 170, 253,\n",
              "       253, 253, 253, 253, 225, 172, 253, 242, 195,  64,   0,   0,   0,\n",
              "         0,   0,   0,   0,   0,   0,   0,   0,  49, 238, 253, 253, 253,\n",
              "       253, 253, 253, 253, 253, 251,  93,  82,  82,  56,  39,   0,   0,\n",
              "         0,   0,   0,   0,   0,   0,   0,   0,   0,   0,  18, 219, 253,\n",
              "       253, 253, 253, 253, 198, 182, 247, 241,   0,   0,   0,   0,   0,\n",
              "         0,   0,   0,   0,   0,   0,   0,   0,   0,   0,   0,   0,   0,\n",
              "        80, 156, 107, 253, 253, 205,  11,   0,  43, 154,   0,   0,   0,\n",
              "         0,   0,   0,   0,   0,   0,   0,   0,   0,   0,   0,   0,   0,\n",
              "         0,   0,   0,  14,   1, 154, 253,  90,   0,   0,   0,   0,   0,\n",
              "         0,   0,   0,   0,   0,   0,   0,   0,   0,   0,   0,   0,   0,\n",
              "         0,   0,   0,   0,   0,   0,   0, 139, 253, 190,   2,   0,   0,\n",
              "         0,   0,   0,   0,   0,   0,   0,   0,   0,   0,   0,   0,   0,\n",
              "         0,   0,   0,   0,   0,   0,   0,   0,   0,  11, 190, 253,  70,\n",
              "         0,   0,   0,   0,   0,   0,   0,   0,   0,   0,   0,   0,   0,\n",
              "         0,   0,   0,   0,   0,   0,   0,   0,   0,   0,   0,   0,  35,\n",
              "       241, 225, 160, 108,   1,   0,   0,   0,   0,   0,   0,   0,   0,\n",
              "         0,   0,   0,   0,   0,   0,   0,   0,   0,   0,   0,   0,   0,\n",
              "         0,   0,  81, 240, 253, 253, 119,  25,   0,   0,   0,   0,   0,\n",
              "         0,   0,   0,   0,   0,   0,   0,   0,   0,   0,   0,   0,   0,\n",
              "         0,   0,   0,   0,   0,  45, 186, 253, 253, 150,  27,   0,   0,\n",
              "         0,   0,   0,   0,   0,   0,   0,   0,   0,   0,   0,   0,   0,\n",
              "         0,   0,   0,   0,   0,   0,   0,   0,  16,  93, 252, 253, 187,\n",
              "         0,   0,   0,   0,   0,   0,   0,   0,   0,   0,   0,   0,   0,\n",
              "         0,   0,   0,   0,   0,   0,   0,   0,   0,   0,   0,   0, 249,\n",
              "       253, 249,  64,   0,   0,   0,   0,   0,   0,   0,   0,   0,   0,\n",
              "         0,   0,   0,   0,   0,   0,   0,   0,   0,   0,   0,  46, 130,\n",
              "       183, 253, 253, 207,   2,   0,   0,   0,   0,   0,   0,   0,   0,\n",
              "         0,   0,   0,   0,   0,   0,   0,   0,   0,   0,   0,  39, 148,\n",
              "       229, 253, 253, 253, 250, 182,   0,   0,   0,   0,   0,   0,   0,\n",
              "         0,   0,   0,   0,   0,   0,   0,   0,   0,   0,   0,  24, 114,\n",
              "       221, 253, 253, 253, 253, 201,  78,   0,   0,   0,   0,   0,   0,\n",
              "         0,   0,   0,   0,   0,   0,   0,   0,   0,   0,   0,  23,  66,\n",
              "       213, 253, 253, 253, 253, 198,  81,   2,   0,   0,   0,   0,   0,\n",
              "         0,   0,   0,   0,   0,   0,   0,   0,   0,   0,   0,  18, 171,\n",
              "       219, 253, 253, 253, 253, 195,  80,   9,   0,   0,   0,   0,   0,\n",
              "         0,   0,   0,   0,   0,   0,   0,   0,   0,   0,   0,  55, 172,\n",
              "       226, 253, 253, 253, 253, 244, 133,  11,   0,   0,   0,   0,   0,\n",
              "         0,   0,   0,   0,   0,   0,   0,   0,   0,   0,   0,   0,   0,\n",
              "       136, 253, 253, 253, 212, 135, 132,  16,   0,   0,   0,   0,   0,\n",
              "         0,   0,   0,   0,   0,   0,   0,   0,   0,   0,   0,   0,   0,\n",
              "         0,   0,   0,   0,   0,   0,   0,   0,   0,   0,   0,   0,   0,\n",
              "         0,   0,   0,   0,   0,   0,   0,   0,   0,   0,   0,   0,   0,\n",
              "         0,   0,   0,   0,   0,   0,   0,   0,   0,   0,   0,   0,   0,\n",
              "         0,   0,   0,   0,   0,   0,   0,   0,   0,   0,   0,   0,   0,\n",
              "         0,   0,   0,   0,   0,   0,   0,   0,   0,   0,   0,   0,   0,\n",
              "         0,   0,   0,   0,   0,   0,   0,   0,   0,   0,   0,   0,   0,\n",
              "         0,   0,   0,   0], dtype=uint8)"
            ]
          },
          "metadata": {
            "tags": []
          },
          "execution_count": 50
        }
      ]
    },
    {
      "cell_type": "code",
      "metadata": {
        "id": "CdYevGng8xSL",
        "colab_type": "code",
        "colab": {}
      },
      "source": [
        "# if we observe the above matrix each cell is having a value between 0-255\n",
        "# before we move to apply machine learning algorithms lets try to normalize the data\n",
        "# X => (X - Xmin)/(Xmax-Xmin) = X/255\n",
        "X_train = X_train / 255\n",
        "X_test = X_test / 255"
      ],
      "execution_count": 51,
      "outputs": []
    },
    {
      "cell_type": "code",
      "metadata": {
        "id": "Q89O6YXT9ZPZ",
        "colab_type": "code",
        "colab": {
          "base_uri": "https://localhost:8080/",
          "height": 1000
        },
        "outputId": "4bd9e638-1b66-4f7c-f196-7c9368a0935c"
      },
      "source": [
        "X_train[0]"
      ],
      "execution_count": 52,
      "outputs": [
        {
          "output_type": "execute_result",
          "data": {
            "text/plain": [
              "array([0.        , 0.        , 0.        , 0.        , 0.        ,\n",
              "       0.        , 0.        , 0.        , 0.        , 0.        ,\n",
              "       0.        , 0.        , 0.        , 0.        , 0.        ,\n",
              "       0.        , 0.        , 0.        , 0.        , 0.        ,\n",
              "       0.        , 0.        , 0.        , 0.        , 0.        ,\n",
              "       0.        , 0.        , 0.        , 0.        , 0.        ,\n",
              "       0.        , 0.        , 0.        , 0.        , 0.        ,\n",
              "       0.        , 0.        , 0.        , 0.        , 0.        ,\n",
              "       0.        , 0.        , 0.        , 0.        , 0.        ,\n",
              "       0.        , 0.        , 0.        , 0.        , 0.        ,\n",
              "       0.        , 0.        , 0.        , 0.        , 0.        ,\n",
              "       0.        , 0.        , 0.        , 0.        , 0.        ,\n",
              "       0.        , 0.        , 0.        , 0.        , 0.        ,\n",
              "       0.        , 0.        , 0.        , 0.        , 0.        ,\n",
              "       0.        , 0.        , 0.        , 0.        , 0.        ,\n",
              "       0.        , 0.        , 0.        , 0.        , 0.        ,\n",
              "       0.        , 0.        , 0.        , 0.        , 0.        ,\n",
              "       0.        , 0.        , 0.        , 0.        , 0.        ,\n",
              "       0.        , 0.        , 0.        , 0.        , 0.        ,\n",
              "       0.        , 0.        , 0.        , 0.        , 0.        ,\n",
              "       0.        , 0.        , 0.        , 0.        , 0.        ,\n",
              "       0.        , 0.        , 0.        , 0.        , 0.        ,\n",
              "       0.        , 0.        , 0.        , 0.        , 0.        ,\n",
              "       0.        , 0.        , 0.        , 0.        , 0.        ,\n",
              "       0.        , 0.        , 0.        , 0.        , 0.        ,\n",
              "       0.        , 0.        , 0.        , 0.        , 0.        ,\n",
              "       0.        , 0.        , 0.        , 0.        , 0.        ,\n",
              "       0.        , 0.        , 0.        , 0.        , 0.        ,\n",
              "       0.        , 0.        , 0.        , 0.        , 0.        ,\n",
              "       0.        , 0.        , 0.        , 0.        , 0.        ,\n",
              "       0.        , 0.        , 0.01176471, 0.07058824, 0.07058824,\n",
              "       0.07058824, 0.49411765, 0.53333333, 0.68627451, 0.10196078,\n",
              "       0.65098039, 1.        , 0.96862745, 0.49803922, 0.        ,\n",
              "       0.        , 0.        , 0.        , 0.        , 0.        ,\n",
              "       0.        , 0.        , 0.        , 0.        , 0.        ,\n",
              "       0.        , 0.11764706, 0.14117647, 0.36862745, 0.60392157,\n",
              "       0.66666667, 0.99215686, 0.99215686, 0.99215686, 0.99215686,\n",
              "       0.99215686, 0.88235294, 0.6745098 , 0.99215686, 0.94901961,\n",
              "       0.76470588, 0.25098039, 0.        , 0.        , 0.        ,\n",
              "       0.        , 0.        , 0.        , 0.        , 0.        ,\n",
              "       0.        , 0.        , 0.        , 0.19215686, 0.93333333,\n",
              "       0.99215686, 0.99215686, 0.99215686, 0.99215686, 0.99215686,\n",
              "       0.99215686, 0.99215686, 0.99215686, 0.98431373, 0.36470588,\n",
              "       0.32156863, 0.32156863, 0.21960784, 0.15294118, 0.        ,\n",
              "       0.        , 0.        , 0.        , 0.        , 0.        ,\n",
              "       0.        , 0.        , 0.        , 0.        , 0.        ,\n",
              "       0.        , 0.07058824, 0.85882353, 0.99215686, 0.99215686,\n",
              "       0.99215686, 0.99215686, 0.99215686, 0.77647059, 0.71372549,\n",
              "       0.96862745, 0.94509804, 0.        , 0.        , 0.        ,\n",
              "       0.        , 0.        , 0.        , 0.        , 0.        ,\n",
              "       0.        , 0.        , 0.        , 0.        , 0.        ,\n",
              "       0.        , 0.        , 0.        , 0.        , 0.        ,\n",
              "       0.31372549, 0.61176471, 0.41960784, 0.99215686, 0.99215686,\n",
              "       0.80392157, 0.04313725, 0.        , 0.16862745, 0.60392157,\n",
              "       0.        , 0.        , 0.        , 0.        , 0.        ,\n",
              "       0.        , 0.        , 0.        , 0.        , 0.        ,\n",
              "       0.        , 0.        , 0.        , 0.        , 0.        ,\n",
              "       0.        , 0.        , 0.        , 0.        , 0.05490196,\n",
              "       0.00392157, 0.60392157, 0.99215686, 0.35294118, 0.        ,\n",
              "       0.        , 0.        , 0.        , 0.        , 0.        ,\n",
              "       0.        , 0.        , 0.        , 0.        , 0.        ,\n",
              "       0.        , 0.        , 0.        , 0.        , 0.        ,\n",
              "       0.        , 0.        , 0.        , 0.        , 0.        ,\n",
              "       0.        , 0.        , 0.        , 0.        , 0.54509804,\n",
              "       0.99215686, 0.74509804, 0.00784314, 0.        , 0.        ,\n",
              "       0.        , 0.        , 0.        , 0.        , 0.        ,\n",
              "       0.        , 0.        , 0.        , 0.        , 0.        ,\n",
              "       0.        , 0.        , 0.        , 0.        , 0.        ,\n",
              "       0.        , 0.        , 0.        , 0.        , 0.        ,\n",
              "       0.        , 0.        , 0.04313725, 0.74509804, 0.99215686,\n",
              "       0.2745098 , 0.        , 0.        , 0.        , 0.        ,\n",
              "       0.        , 0.        , 0.        , 0.        , 0.        ,\n",
              "       0.        , 0.        , 0.        , 0.        , 0.        ,\n",
              "       0.        , 0.        , 0.        , 0.        , 0.        ,\n",
              "       0.        , 0.        , 0.        , 0.        , 0.        ,\n",
              "       0.        , 0.1372549 , 0.94509804, 0.88235294, 0.62745098,\n",
              "       0.42352941, 0.00392157, 0.        , 0.        , 0.        ,\n",
              "       0.        , 0.        , 0.        , 0.        , 0.        ,\n",
              "       0.        , 0.        , 0.        , 0.        , 0.        ,\n",
              "       0.        , 0.        , 0.        , 0.        , 0.        ,\n",
              "       0.        , 0.        , 0.        , 0.        , 0.        ,\n",
              "       0.31764706, 0.94117647, 0.99215686, 0.99215686, 0.46666667,\n",
              "       0.09803922, 0.        , 0.        , 0.        , 0.        ,\n",
              "       0.        , 0.        , 0.        , 0.        , 0.        ,\n",
              "       0.        , 0.        , 0.        , 0.        , 0.        ,\n",
              "       0.        , 0.        , 0.        , 0.        , 0.        ,\n",
              "       0.        , 0.        , 0.        , 0.        , 0.17647059,\n",
              "       0.72941176, 0.99215686, 0.99215686, 0.58823529, 0.10588235,\n",
              "       0.        , 0.        , 0.        , 0.        , 0.        ,\n",
              "       0.        , 0.        , 0.        , 0.        , 0.        ,\n",
              "       0.        , 0.        , 0.        , 0.        , 0.        ,\n",
              "       0.        , 0.        , 0.        , 0.        , 0.        ,\n",
              "       0.        , 0.        , 0.        , 0.0627451 , 0.36470588,\n",
              "       0.98823529, 0.99215686, 0.73333333, 0.        , 0.        ,\n",
              "       0.        , 0.        , 0.        , 0.        , 0.        ,\n",
              "       0.        , 0.        , 0.        , 0.        , 0.        ,\n",
              "       0.        , 0.        , 0.        , 0.        , 0.        ,\n",
              "       0.        , 0.        , 0.        , 0.        , 0.        ,\n",
              "       0.        , 0.        , 0.        , 0.97647059, 0.99215686,\n",
              "       0.97647059, 0.25098039, 0.        , 0.        , 0.        ,\n",
              "       0.        , 0.        , 0.        , 0.        , 0.        ,\n",
              "       0.        , 0.        , 0.        , 0.        , 0.        ,\n",
              "       0.        , 0.        , 0.        , 0.        , 0.        ,\n",
              "       0.        , 0.        , 0.        , 0.18039216, 0.50980392,\n",
              "       0.71764706, 0.99215686, 0.99215686, 0.81176471, 0.00784314,\n",
              "       0.        , 0.        , 0.        , 0.        , 0.        ,\n",
              "       0.        , 0.        , 0.        , 0.        , 0.        ,\n",
              "       0.        , 0.        , 0.        , 0.        , 0.        ,\n",
              "       0.        , 0.        , 0.        , 0.        , 0.15294118,\n",
              "       0.58039216, 0.89803922, 0.99215686, 0.99215686, 0.99215686,\n",
              "       0.98039216, 0.71372549, 0.        , 0.        , 0.        ,\n",
              "       0.        , 0.        , 0.        , 0.        , 0.        ,\n",
              "       0.        , 0.        , 0.        , 0.        , 0.        ,\n",
              "       0.        , 0.        , 0.        , 0.        , 0.        ,\n",
              "       0.09411765, 0.44705882, 0.86666667, 0.99215686, 0.99215686,\n",
              "       0.99215686, 0.99215686, 0.78823529, 0.30588235, 0.        ,\n",
              "       0.        , 0.        , 0.        , 0.        , 0.        ,\n",
              "       0.        , 0.        , 0.        , 0.        , 0.        ,\n",
              "       0.        , 0.        , 0.        , 0.        , 0.        ,\n",
              "       0.        , 0.09019608, 0.25882353, 0.83529412, 0.99215686,\n",
              "       0.99215686, 0.99215686, 0.99215686, 0.77647059, 0.31764706,\n",
              "       0.00784314, 0.        , 0.        , 0.        , 0.        ,\n",
              "       0.        , 0.        , 0.        , 0.        , 0.        ,\n",
              "       0.        , 0.        , 0.        , 0.        , 0.        ,\n",
              "       0.        , 0.        , 0.07058824, 0.67058824, 0.85882353,\n",
              "       0.99215686, 0.99215686, 0.99215686, 0.99215686, 0.76470588,\n",
              "       0.31372549, 0.03529412, 0.        , 0.        , 0.        ,\n",
              "       0.        , 0.        , 0.        , 0.        , 0.        ,\n",
              "       0.        , 0.        , 0.        , 0.        , 0.        ,\n",
              "       0.        , 0.        , 0.        , 0.21568627, 0.6745098 ,\n",
              "       0.88627451, 0.99215686, 0.99215686, 0.99215686, 0.99215686,\n",
              "       0.95686275, 0.52156863, 0.04313725, 0.        , 0.        ,\n",
              "       0.        , 0.        , 0.        , 0.        , 0.        ,\n",
              "       0.        , 0.        , 0.        , 0.        , 0.        ,\n",
              "       0.        , 0.        , 0.        , 0.        , 0.        ,\n",
              "       0.        , 0.53333333, 0.99215686, 0.99215686, 0.99215686,\n",
              "       0.83137255, 0.52941176, 0.51764706, 0.0627451 , 0.        ,\n",
              "       0.        , 0.        , 0.        , 0.        , 0.        ,\n",
              "       0.        , 0.        , 0.        , 0.        , 0.        ,\n",
              "       0.        , 0.        , 0.        , 0.        , 0.        ,\n",
              "       0.        , 0.        , 0.        , 0.        , 0.        ,\n",
              "       0.        , 0.        , 0.        , 0.        , 0.        ,\n",
              "       0.        , 0.        , 0.        , 0.        , 0.        ,\n",
              "       0.        , 0.        , 0.        , 0.        , 0.        ,\n",
              "       0.        , 0.        , 0.        , 0.        , 0.        ,\n",
              "       0.        , 0.        , 0.        , 0.        , 0.        ,\n",
              "       0.        , 0.        , 0.        , 0.        , 0.        ,\n",
              "       0.        , 0.        , 0.        , 0.        , 0.        ,\n",
              "       0.        , 0.        , 0.        , 0.        , 0.        ,\n",
              "       0.        , 0.        , 0.        , 0.        , 0.        ,\n",
              "       0.        , 0.        , 0.        , 0.        , 0.        ,\n",
              "       0.        , 0.        , 0.        , 0.        , 0.        ,\n",
              "       0.        , 0.        , 0.        , 0.        , 0.        ,\n",
              "       0.        , 0.        , 0.        , 0.        , 0.        ,\n",
              "       0.        , 0.        , 0.        , 0.        , 0.        ,\n",
              "       0.        , 0.        , 0.        , 0.        , 0.        ,\n",
              "       0.        , 0.        , 0.        , 0.        ])"
            ]
          },
          "metadata": {
            "tags": []
          },
          "execution_count": 52
        }
      ]
    },
    {
      "cell_type": "code",
      "metadata": {
        "id": "_HASxvqJ9bZ0",
        "colab_type": "code",
        "colab": {
          "base_uri": "https://localhost:8080/",
          "height": 34
        },
        "outputId": "fd3c81c6-7f24-414c-99cc-1d09925805b6"
      },
      "source": [
        "# here we are having a class number for each image\n",
        "print(\"Class label of first image :\", y_train[0])\n",
        "\n",
        "# lets convert this into a 10 dimensional vector\n",
        "# ex: consider an image is 5 convert it into 5 => [0, 0, 0, 0, 0, 1, 0, 0, 0, 0]\n",
        "# this conversion needed for MLPs "
      ],
      "execution_count": 53,
      "outputs": [
        {
          "output_type": "stream",
          "text": [
            "Class label of first image : 5\n"
          ],
          "name": "stdout"
        }
      ]
    },
    {
      "cell_type": "code",
      "metadata": {
        "id": "mD8SHjPz98N5",
        "colab_type": "code",
        "colab": {
          "base_uri": "https://localhost:8080/",
          "height": 34
        },
        "outputId": "01e09e84-3028-46f1-916d-145139a60418"
      },
      "source": [
        "Y_train = np_utils.to_categorical(y_train , 10)\n",
        "Y_test = np_utils.to_categorical(y_test,10)\n",
        "\n",
        "print(\"After converting a label into one hot encoding : \" , Y_train[0])"
      ],
      "execution_count": 54,
      "outputs": [
        {
          "output_type": "stream",
          "text": [
            "After converting a label into one hot encoding :  [0. 0. 0. 0. 0. 1. 0. 0. 0. 0.]\n"
          ],
          "name": "stdout"
        }
      ]
    },
    {
      "cell_type": "markdown",
      "metadata": {
        "id": "nDMl-EUy_g17",
        "colab_type": "text"
      },
      "source": [
        "# SoftMax Classifier"
      ]
    },
    {
      "cell_type": "code",
      "metadata": {
        "id": "ifIjQxU3-ep_",
        "colab_type": "code",
        "colab": {}
      },
      "source": [
        "# https://keras.io/getting-started/sequential-model-guide/\n",
        "\n",
        "# The Sequential model is a linear stack of layers.\n",
        "# you can create a Sequential model by passing a list of layer instances to the constructor:\n",
        "\n",
        "# model = Sequential([\n",
        "#     Dense(32, input_shape=(784,)),\n",
        "#     Activation('relu'),\n",
        "#     Dense(10),\n",
        "#     Activation('softmax'),\n",
        "# ])\n",
        "\n",
        "# You can also simply add layers via the .add() method:\n",
        "\n",
        "# model = Sequential()\n",
        "# model.add(Dense(32, input_dim=784))\n",
        "# model.add(Activation('relu'))\n",
        "\n",
        "###\n",
        "\n",
        "# https://keras.io/layers/core/\n",
        "\n",
        "# keras.layers.Dense(units, activation=None, use_bias=True, kernel_initializer='glorot_uniform', \n",
        "# bias_initializer='zeros', kernel_regularizer=None, bias_regularizer=None, activity_regularizer=None, \n",
        "# kernel_constraint=None, bias_constraint=None)\n",
        "\n",
        "# Dense implements the operation: output = activation(dot(input, kernel) + bias) where\n",
        "# activation is the element-wise activation function passed as the activation argument, \n",
        "# kernel is a weights matrix created by the layer, and \n",
        "# bias is a bias vector created by the layer (only applicable if use_bias is True).\n",
        "\n",
        "# output = activation(dot(input, kernel) + bias)  => y = activation(WT. X + b)\n",
        "\n",
        "####\n",
        "\n",
        "# https://keras.io/activations/\n",
        "\n",
        "# Activations can either be used through an Activation layer, or through the activation argument supported by all forward layers:\n",
        "\n",
        "# from keras.layers import Activation, Dense\n",
        "\n",
        "# model.add(Dense(64))\n",
        "# model.add(Activation('tanh'))\n",
        "\n",
        "# This is equivalent to:\n",
        "# model.add(Dense(64, activation='tanh'))\n",
        "\n",
        "# there are many activation functions ar available ex: tanh, relu, softmax\n",
        "\n",
        "\n",
        "from keras.models import Sequential \n",
        "from keras.layers import Dense, Activation \n"
      ],
      "execution_count": 55,
      "outputs": []
    },
    {
      "cell_type": "code",
      "metadata": {
        "id": "155s87L__xW_",
        "colab_type": "code",
        "colab": {}
      },
      "source": [
        " input_dim = X_train.shape[1]\n",
        " output_dim = 10\n",
        " epoch = 20\n",
        " batch_size = 256"
      ],
      "execution_count": 56,
      "outputs": []
    },
    {
      "cell_type": "code",
      "metadata": {
        "id": "iDl48XLhAA7J",
        "colab_type": "code",
        "colab": {}
      },
      "source": [
        "# start building a model\n",
        "model = Sequential()\n",
        "\n",
        "# The model needs to know what input shape it should expect. \n",
        "# For this reason, the first layer in a Sequential model \n",
        "# (and only the first, because following layers can do automatic shape inference)\n",
        "# needs to receive information about its input shape. \n",
        "# you can use input_shape and input_dim to pass the shape of input\n",
        "\n",
        "# output_dim represent the number of nodes need in that layer\n",
        "# here we have 10 nodes\n",
        "model.add(Dense(output_dim,input_dim = input_dim,activation='softmax'))"
      ],
      "execution_count": 57,
      "outputs": []
    },
    {
      "cell_type": "code",
      "metadata": {
        "id": "BGaKl2vABDVl",
        "colab_type": "code",
        "colab": {
          "base_uri": "https://localhost:8080/",
          "height": 697
        },
        "outputId": "1066305e-ac5e-45c7-d626-bfc9a3396698"
      },
      "source": [
        "# Before training a model, you need to configure the learning process, which is done via the compile method\n",
        "\n",
        "# It receives three arguments:\n",
        "# An optimizer. This could be the string identifier of an existing optimizer , https://keras.io/optimizers/\n",
        "# A loss function. This is the objective that the model will try to minimize., https://keras.io/losses/\n",
        "# A list of metrics. For any classification problem you will want to set this to metrics=['accuracy'].  https://keras.io/metrics/\n",
        "\n",
        "\n",
        "# Note: when using the categorical_crossentropy loss, your targets should be in categorical format \n",
        "# (e.g. if you have 10 classes, the target for each sample should be a 10-dimensional vector that is all-zeros except \n",
        "# for a 1 at the index corresponding to the class of the sample).\n",
        "\n",
        "# that is why we converted out labels into vectors\n",
        "\n",
        "model.compile(optimizer='sgd', loss='categorical_crossentropy', metrics=['accuracy'])\n",
        "\n",
        "# Keras models are trained on Numpy arrays of input data and labels. \n",
        "# For training a model, you will typically use the  fit function\n",
        "\n",
        "# fit(self, x=None, y=None, batch_size=None, epochs=1, verbose=1, callbacks=None, validation_split=0.0, \n",
        "# validation_data=None, shuffle=True, class_weight=None, sample_weight=None, initial_epoch=0, steps_per_epoch=None, \n",
        "# validation_steps=None)\n",
        "\n",
        "# fit() function Trains the model for a fixed number of epochs (iterations on a dataset).\n",
        "\n",
        "# it returns A History object. Its History.history attribute is a record of training loss values and \n",
        "# metrics values at successive epochs, as well as validation loss values and validation metrics values (if applicable).\n",
        "\n",
        "# https://github.com/openai/baselines/issues/20\n",
        "\n",
        "history = model.fit(X_train, Y_train, epochs=epoch, verbose=1, validation_data=(X_test, Y_test)) \n"
      ],
      "execution_count": 58,
      "outputs": [
        {
          "output_type": "stream",
          "text": [
            "Epoch 1/20\n",
            "1875/1875 [==============================] - 5s 3ms/step - loss: 0.7863 - accuracy: 0.8123 - val_loss: 0.4822 - val_accuracy: 0.8822\n",
            "Epoch 2/20\n",
            "1875/1875 [==============================] - 5s 3ms/step - loss: 0.4563 - accuracy: 0.8810 - val_loss: 0.4002 - val_accuracy: 0.8964\n",
            "Epoch 3/20\n",
            "1875/1875 [==============================] - 5s 3ms/step - loss: 0.4032 - accuracy: 0.8917 - val_loss: 0.3676 - val_accuracy: 0.9017\n",
            "Epoch 4/20\n",
            "1875/1875 [==============================] - 5s 3ms/step - loss: 0.3767 - accuracy: 0.8974 - val_loss: 0.3481 - val_accuracy: 0.9070\n",
            "Epoch 5/20\n",
            "1875/1875 [==============================] - 5s 3ms/step - loss: 0.3599 - accuracy: 0.9009 - val_loss: 0.3353 - val_accuracy: 0.9091\n",
            "Epoch 6/20\n",
            "1875/1875 [==============================] - 5s 2ms/step - loss: 0.3481 - accuracy: 0.9034 - val_loss: 0.3267 - val_accuracy: 0.9110\n",
            "Epoch 7/20\n",
            "1875/1875 [==============================] - 5s 3ms/step - loss: 0.3391 - accuracy: 0.9058 - val_loss: 0.3196 - val_accuracy: 0.9122\n",
            "Epoch 8/20\n",
            "1875/1875 [==============================] - 5s 2ms/step - loss: 0.3319 - accuracy: 0.9076 - val_loss: 0.3146 - val_accuracy: 0.9146\n",
            "Epoch 9/20\n",
            "1875/1875 [==============================] - 5s 3ms/step - loss: 0.3262 - accuracy: 0.9097 - val_loss: 0.3106 - val_accuracy: 0.9170\n",
            "Epoch 10/20\n",
            "1875/1875 [==============================] - 5s 3ms/step - loss: 0.3212 - accuracy: 0.9107 - val_loss: 0.3058 - val_accuracy: 0.9168\n",
            "Epoch 11/20\n",
            "1875/1875 [==============================] - 5s 3ms/step - loss: 0.3170 - accuracy: 0.9117 - val_loss: 0.3028 - val_accuracy: 0.9172\n",
            "Epoch 12/20\n",
            "1875/1875 [==============================] - 5s 3ms/step - loss: 0.3134 - accuracy: 0.9129 - val_loss: 0.2999 - val_accuracy: 0.9170\n",
            "Epoch 13/20\n",
            "1875/1875 [==============================] - 5s 2ms/step - loss: 0.3100 - accuracy: 0.9141 - val_loss: 0.2979 - val_accuracy: 0.9185\n",
            "Epoch 14/20\n",
            "1875/1875 [==============================] - 5s 2ms/step - loss: 0.3073 - accuracy: 0.9148 - val_loss: 0.2955 - val_accuracy: 0.9183\n",
            "Epoch 15/20\n",
            "1875/1875 [==============================] - 5s 3ms/step - loss: 0.3046 - accuracy: 0.9151 - val_loss: 0.2940 - val_accuracy: 0.9193\n",
            "Epoch 16/20\n",
            "1875/1875 [==============================] - 5s 2ms/step - loss: 0.3024 - accuracy: 0.9159 - val_loss: 0.2915 - val_accuracy: 0.9181\n",
            "Epoch 17/20\n",
            "1875/1875 [==============================] - 5s 2ms/step - loss: 0.3002 - accuracy: 0.9172 - val_loss: 0.2903 - val_accuracy: 0.9200\n",
            "Epoch 18/20\n",
            "1875/1875 [==============================] - 5s 3ms/step - loss: 0.2983 - accuracy: 0.9172 - val_loss: 0.2892 - val_accuracy: 0.9212\n",
            "Epoch 19/20\n",
            "1875/1875 [==============================] - 5s 2ms/step - loss: 0.2965 - accuracy: 0.9178 - val_loss: 0.2881 - val_accuracy: 0.9199\n",
            "Epoch 20/20\n",
            "1875/1875 [==============================] - 5s 3ms/step - loss: 0.2949 - accuracy: 0.9180 - val_loss: 0.2863 - val_accuracy: 0.9202\n"
          ],
          "name": "stdout"
        }
      ]
    },
    {
      "cell_type": "code",
      "metadata": {
        "id": "DhOrGaxhCvjd",
        "colab_type": "code",
        "colab": {
          "base_uri": "https://localhost:8080/",
          "height": 347
        },
        "outputId": "5afdaf9b-205f-4c36-88b8-bbe598657232"
      },
      "source": [
        "score = model.evaluate(x = X_test , y=Y_test,verbose = 2)\n",
        "print(\"Test Loss : \",score[0])\n",
        "print(\"test accuracy : \",score[1])\n",
        "\n",
        "fig , ax = plt.subplots(1,1)\n",
        "ax.set_xlabel(\"Epoch\")\n",
        "ax.set_ylabel(\"Train and validation loss\")\n",
        "\n",
        "#list of epoch numbers\n",
        "x = list(range(1,epoch+1))\n",
        "\n",
        "print(history.history.keys())\n",
        "\n",
        "vy = history.history['val_loss']\n",
        "ty = history.history['loss']\n",
        "plt_dynamic(x , vy,ty,ax)"
      ],
      "execution_count": 59,
      "outputs": [
        {
          "output_type": "stream",
          "text": [
            "313/313 - 1s - loss: 0.2863 - accuracy: 0.9202\n",
            "Test Loss :  0.286345899105072\n",
            "test accuracy :  0.920199990272522\n",
            "dict_keys(['loss', 'accuracy', 'val_loss', 'val_accuracy'])\n"
          ],
          "name": "stdout"
        },
        {
          "output_type": "display_data",
          "data": {
            "image/png": "[encoded data removed]",
            "text/plain": [
              "<Figure size 432x288 with 1 Axes>"
            ]
          },
          "metadata": {
            "tags": [],
            "needs_background": "light"
          }
        }
      ]
    },
    {
      "cell_type": "markdown",
      "metadata": {
        "id": "_sk2o57NIE87",
        "colab_type": "text"
      },
      "source": [
        "# MLP + Sigmoid Activation +SGD optimizer"
      ]
    },
    {
      "cell_type": "code",
      "metadata": {
        "id": "3IeEU2rKHI3V",
        "colab_type": "code",
        "colab": {
          "base_uri": "https://localhost:8080/",
          "height": 660
        },
        "outputId": "c7958798-2f5a-4aa7-e1fb-dfa538d98b1f"
      },
      "source": [
        "import tensorflow as tf\n",
        "\n",
        "\n",
        "# here now we are adding the activation function along with SGD Optimizer\n",
        "model_sigmoid = Sequential()\n",
        "model_sigmoid.add(Dense(512,activation='sigmoid',input_shape = (input_dim , )))\n",
        "model_sigmoid.add(Dense(128,activation='sigmoid'))\n",
        "model_sigmoid.add(Dense(output_dim,activation='softmax'))\n",
        "\n",
        "model_sigmoid.summary()\n",
        "tf.keras.utils.plot_model(model_sigmoid,'model_sigmoid.png',show_shapes = True)"
      ],
      "execution_count": 60,
      "outputs": [
        {
          "output_type": "stream",
          "text": [
            "Model: \"sequential_9\"\n",
            "_________________________________________________________________\n",
            "Layer (type)                 Output Shape              Param #   \n",
            "=================================================================\n",
            "dense_20 (Dense)             (None, 512)               401920    \n",
            "_________________________________________________________________\n",
            "dense_21 (Dense)             (None, 128)               65664     \n",
            "_________________________________________________________________\n",
            "dense_22 (Dense)             (None, 10)                1290      \n",
            "=================================================================\n",
            "Total params: 468,874\n",
            "Trainable params: 468,874\n",
            "Non-trainable params: 0\n",
            "_________________________________________________________________\n"
          ],
          "name": "stdout"
        },
        {
          "output_type": "execute_result",
          "data": {
            "image/png": "[encoded data removed]",
            "text/plain": [
              "<IPython.core.display.Image object>"
            ]
          },
          "metadata": {
            "tags": []
          },
          "execution_count": 60
        }
      ]
    },
    {
      "cell_type": "code",
      "metadata": {
        "id": "8oUmTQUSJGXv",
        "colab_type": "code",
        "colab": {
          "base_uri": "https://localhost:8080/",
          "height": 697
        },
        "outputId": "b9b437bf-55b4-4f9e-8774-f5320edfb1fd"
      },
      "source": [
        "model_sigmoid.compile(optimizer='sgd',loss='categorical_crossentropy',metrics=['accuracy'])\n",
        "history = model_sigmoid.fit(x = X_train , y=Y_train,epochs=epoch,validation_data=(X_test,Y_test),verbose=2)"
      ],
      "execution_count": 61,
      "outputs": [
        {
          "output_type": "stream",
          "text": [
            "Epoch 1/20\n",
            "1875/1875 - 5s - loss: 2.1051 - accuracy: 0.4193 - val_loss: 1.7837 - val_accuracy: 0.6382\n",
            "Epoch 2/20\n",
            "1875/1875 - 5s - loss: 1.3606 - accuracy: 0.7133 - val_loss: 0.9947 - val_accuracy: 0.7833\n",
            "Epoch 3/20\n",
            "1875/1875 - 5s - loss: 0.8270 - accuracy: 0.8056 - val_loss: 0.6812 - val_accuracy: 0.8359\n",
            "Epoch 4/20\n",
            "1875/1875 - 5s - loss: 0.6169 - accuracy: 0.8429 - val_loss: 0.5441 - val_accuracy: 0.8590\n",
            "Epoch 5/20\n",
            "1875/1875 - 5s - loss: 0.5155 - accuracy: 0.8637 - val_loss: 0.4692 - val_accuracy: 0.8740\n",
            "Epoch 6/20\n",
            "1875/1875 - 5s - loss: 0.4567 - accuracy: 0.8765 - val_loss: 0.4228 - val_accuracy: 0.8847\n",
            "Epoch 7/20\n",
            "1875/1875 - 5s - loss: 0.4189 - accuracy: 0.8844 - val_loss: 0.3906 - val_accuracy: 0.8914\n",
            "Epoch 8/20\n",
            "1875/1875 - 5s - loss: 0.3927 - accuracy: 0.8908 - val_loss: 0.3693 - val_accuracy: 0.8963\n",
            "Epoch 9/20\n",
            "1875/1875 - 5s - loss: 0.3736 - accuracy: 0.8948 - val_loss: 0.3534 - val_accuracy: 0.8995\n",
            "Epoch 10/20\n",
            "1875/1875 - 5s - loss: 0.3590 - accuracy: 0.8976 - val_loss: 0.3410 - val_accuracy: 0.9035\n",
            "Epoch 11/20\n",
            "1875/1875 - 5s - loss: 0.3474 - accuracy: 0.9009 - val_loss: 0.3304 - val_accuracy: 0.9047\n",
            "Epoch 12/20\n",
            "1875/1875 - 5s - loss: 0.3378 - accuracy: 0.9031 - val_loss: 0.3222 - val_accuracy: 0.9070\n",
            "Epoch 13/20\n",
            "1875/1875 - 5s - loss: 0.3294 - accuracy: 0.9056 - val_loss: 0.3156 - val_accuracy: 0.9103\n",
            "Epoch 14/20\n",
            "1875/1875 - 5s - loss: 0.3221 - accuracy: 0.9068 - val_loss: 0.3103 - val_accuracy: 0.9111\n",
            "Epoch 15/20\n",
            "1875/1875 - 5s - loss: 0.3158 - accuracy: 0.9090 - val_loss: 0.3031 - val_accuracy: 0.9135\n",
            "Epoch 16/20\n",
            "1875/1875 - 5s - loss: 0.3102 - accuracy: 0.9104 - val_loss: 0.2977 - val_accuracy: 0.9139\n",
            "Epoch 17/20\n",
            "1875/1875 - 5s - loss: 0.3051 - accuracy: 0.9115 - val_loss: 0.2943 - val_accuracy: 0.9156\n",
            "Epoch 18/20\n",
            "1875/1875 - 5s - loss: 0.3002 - accuracy: 0.9133 - val_loss: 0.2891 - val_accuracy: 0.9170\n",
            "Epoch 19/20\n",
            "1875/1875 - 5s - loss: 0.2960 - accuracy: 0.9138 - val_loss: 0.2857 - val_accuracy: 0.9178\n",
            "Epoch 20/20\n",
            "1875/1875 - 5s - loss: 0.2918 - accuracy: 0.9157 - val_loss: 0.2818 - val_accuracy: 0.9193\n"
          ],
          "name": "stdout"
        }
      ]
    },
    {
      "cell_type": "code",
      "metadata": {
        "id": "swfr2eOAJk-6",
        "colab_type": "code",
        "colab": {
          "base_uri": "https://localhost:8080/",
          "height": 330
        },
        "outputId": "761f001a-59c6-41f7-f488-214a8d3da812"
      },
      "source": [
        "score = model_sigmoid.evaluate(x = X_test , y = Y_test , verbose=0)\n",
        "print(\"Test Score : \",score[0])\n",
        "print(\"Test Accuracy : \",score[1])\n",
        "\n",
        "fig , ax = plt.subplots(1,1)\n",
        "ax.set_xlabel(\"Epoch\")\n",
        "ax.set_ylabel(\"Categorical crossentropy loss\")\n",
        "\n",
        "#list of epoch numbers\n",
        "x = list(range(1,epoch+1))\n",
        "print(history.history.keys())\n",
        "vy = history.history['val_loss']\n",
        "ty = history.history['loss']\n",
        "plt_dynamic(x , vy , ty , ax)"
      ],
      "execution_count": 62,
      "outputs": [
        {
          "output_type": "stream",
          "text": [
            "Test Score :  0.2818348705768585\n",
            "Test Accuracy :  0.9193000197410583\n",
            "dict_keys(['loss', 'accuracy', 'val_loss', 'val_accuracy'])\n"
          ],
          "name": "stdout"
        },
        {
          "output_type": "display_data",
          "data": {
            "image/png": "[encoded data removed]",
            "text/plain": [
              "<Figure size 432x288 with 1 Axes>"
            ]
          },
          "metadata": {
            "tags": [],
            "needs_background": "light"
          }
        }
      ]
    },
    {
      "cell_type": "markdown",
      "metadata": {
        "id": "56iPCTPvM0nA",
        "colab_type": "text"
      },
      "source": [
        ""
      ]
    },
    {
      "cell_type": "code",
      "metadata": {
        "id": "Q1l0T15ML65b",
        "colab_type": "code",
        "colab": {
          "base_uri": "https://localhost:8080/",
          "height": 1000
        },
        "outputId": "77bfa8e1-02a1-478a-e949-f7304a5b3738"
      },
      "source": [
        "w_after = model_sigmoid.get_weights()\n",
        "w_after"
      ],
      "execution_count": 63,
      "outputs": [
        {
          "output_type": "execute_result",
          "data": {
            "text/plain": [
              "[array([[-0.06225128, -0.03528785,  0.05064272, ..., -0.01068532,\n",
              "          0.04654934, -0.01012337],\n",
              "        [ 0.04252254, -0.05726437, -0.03937528, ...,  0.00464006,\n",
              "          0.06070307,  0.06228204],\n",
              "        [ 0.04343514,  0.02374634, -0.01561187, ...,  0.06283514,\n",
              "          0.04170862,  0.03775747],\n",
              "        ...,\n",
              "        [-0.01232446,  0.04469053,  0.00397267, ...,  0.06218268,\n",
              "         -0.00760386,  0.00903843],\n",
              "        [-0.04272328, -0.03402822, -0.02965901, ...,  0.00828134,\n",
              "         -0.00282244,  0.05549405],\n",
              "        [-0.03875706,  0.01119785, -0.04784909, ...,  0.0433208 ,\n",
              "         -0.06034803, -0.05031545]], dtype=float32),\n",
              " array([-3.88360326e-03,  3.32205702e-04, -1.66801102e-02, -8.72764550e-03,\n",
              "         1.68953799e-02, -1.00270445e-04, -1.36166782e-04,  1.24724489e-02,\n",
              "        -1.07986303e-02, -1.00583415e-02,  3.57129448e-03, -1.14491477e-03,\n",
              "        -1.13050798e-02,  2.94248294e-02,  6.45915605e-03, -6.06080610e-03,\n",
              "        -2.40081875e-03,  1.76598225e-03,  3.03970138e-03, -4.71020723e-03,\n",
              "        -7.12989457e-03, -2.48160982e-03,  4.47549624e-03, -9.14602599e-04,\n",
              "        -8.41365661e-04,  1.35784866e-02, -7.21632596e-03, -3.10842949e-03,\n",
              "        -1.09403459e-02,  6.89445203e-03, -9.05168429e-03, -6.94730692e-03,\n",
              "        -1.27298683e-02,  5.79404132e-03,  9.14028380e-03,  8.63450672e-03,\n",
              "         4.43478208e-03,  6.94751367e-03, -6.27879146e-03, -2.26403959e-02,\n",
              "         4.02634870e-03,  2.14579012e-02, -9.15938709e-03, -9.90029797e-03,\n",
              "        -4.63214377e-03,  3.72777414e-03,  5.20588481e-04, -4.49018180e-03,\n",
              "         7.42404605e-04, -1.34520624e-02,  1.52043113e-02, -5.27081406e-03,\n",
              "        -1.71900876e-02,  2.75892694e-03,  1.56411044e-02,  4.43212548e-03,\n",
              "        -7.82845542e-03,  1.86329819e-02, -7.94772990e-03, -3.34890559e-04,\n",
              "        -1.13187516e-02,  2.45324615e-02,  4.97972919e-03,  1.99722107e-02,\n",
              "        -1.77719481e-02, -5.61976153e-03, -2.93646706e-03,  4.11584834e-03,\n",
              "         5.88101626e-04,  2.18938924e-02, -5.39709954e-03,  1.27768125e-02,\n",
              "        -6.56674802e-03, -3.02452594e-03,  2.76874797e-03,  7.16361357e-03,\n",
              "         1.67871881e-02,  2.56105489e-03, -3.89168272e-03,  3.73661774e-03,\n",
              "         1.71968155e-02, -7.18488358e-03,  1.53682511e-02,  4.20727115e-03,\n",
              "        -1.18525478e-03,  1.73044987e-02,  1.62342805e-02,  3.71040148e-03,\n",
              "        -1.05883647e-03,  3.23402951e-03, -1.38694132e-02, -3.52545129e-03,\n",
              "         9.37634800e-03,  5.77045279e-03,  2.68787867e-03, -4.95214993e-03,\n",
              "         2.17600986e-02, -1.79287163e-04,  4.59705992e-03, -1.28886197e-03,\n",
              "         3.36635322e-03, -1.17876887e-04, -1.73545517e-02,  8.80791713e-03,\n",
              "        -2.49017365e-02,  1.10320980e-02,  1.63343700e-03, -5.03032980e-03,\n",
              "         1.16108842e-02,  3.26077780e-03, -1.91496802e-03,  1.21640936e-02,\n",
              "        -2.22677048e-02,  7.46786315e-03, -2.55329013e-02,  4.45781182e-03,\n",
              "         2.22864226e-04,  1.38311712e-02, -3.91751470e-04, -7.44018529e-04,\n",
              "        -1.00003509e-02,  2.78718537e-03,  9.56819952e-03, -1.92959711e-03,\n",
              "         6.48556789e-03,  1.42242359e-02,  3.07155424e-03,  2.20158827e-02,\n",
              "        -3.89042456e-04,  5.68599766e-03, -2.23095925e-03, -9.78717115e-04,\n",
              "         1.75950374e-03, -1.61975864e-02,  2.29531527e-02,  3.44348792e-03,\n",
              "         3.08286189e-03, -6.06602337e-03,  1.71212200e-03,  1.58879894e-03,\n",
              "         2.90596765e-03, -2.51878053e-03,  4.69130417e-03, -1.02744838e-02,\n",
              "         3.53165437e-03, -1.15117175e-03,  3.85952252e-03,  2.10162997e-02,\n",
              "         1.24788284e-02,  6.68649562e-03,  8.44168011e-03, -1.84866749e-02,\n",
              "         1.57875456e-02,  1.31564960e-03,  9.95382480e-03, -5.97987091e-03,\n",
              "         4.89899144e-03, -3.97260417e-04,  1.62292307e-03, -7.93589652e-03,\n",
              "         2.54544150e-02,  3.54634190e-04, -4.22919344e-04, -1.07189140e-03,\n",
              "         2.66270945e-03,  1.04794763e-02,  6.33511343e-04,  1.13114703e-03,\n",
              "        -1.40469959e-02,  9.44804680e-03,  1.60366707e-02,  5.69905853e-03,\n",
              "        -5.33667672e-03, -4.44400776e-03, -1.47182392e-02, -9.38519556e-03,\n",
              "         1.57483499e-02,  7.32253771e-03,  7.25959335e-03,  6.50820148e-04,\n",
              "         1.05585577e-02,  1.00318929e-02,  9.81022976e-03, -4.92260046e-03,\n",
              "        -1.90360285e-02, -1.67119075e-02,  7.99874123e-03,  7.51601346e-03,\n",
              "         1.05845428e-03, -5.09693706e-03,  2.01098761e-03,  4.82476177e-03,\n",
              "         6.14755321e-03, -1.08899232e-02, -2.00018734e-02,  3.45938653e-03,\n",
              "         5.78905223e-03, -2.11772000e-04,  1.96919334e-03,  6.07496477e-04,\n",
              "        -4.87238285e-05,  1.27736283e-02,  1.66500621e-02,  7.62282033e-03,\n",
              "        -2.95362324e-02,  1.24242716e-02, -5.80412243e-03, -1.39127187e-02,\n",
              "         5.65098412e-03, -1.97367766e-03, -9.43173189e-04,  4.28026030e-03,\n",
              "        -1.73601322e-02,  3.11817997e-03, -4.11322387e-03, -1.79817656e-03,\n",
              "        -1.09632721e-03, -1.02783395e-02,  1.58099700e-02, -1.06880404e-02,\n",
              "        -5.02051611e-04,  9.88618284e-03, -4.02904669e-04, -5.21241175e-03,\n",
              "        -1.67481601e-02,  1.03037385e-02, -7.38676647e-07,  1.56741012e-02,\n",
              "         1.44835014e-03, -6.55708089e-03, -4.92547639e-03, -6.89542666e-03,\n",
              "        -9.75837186e-03, -5.94748044e-03,  9.72512830e-03,  1.53477667e-02,\n",
              "        -1.68828703e-02,  5.15352329e-03, -1.83439236e-02, -2.17015576e-02,\n",
              "         3.73263122e-03, -5.00216708e-03, -1.82610173e-02, -4.47991258e-03,\n",
              "        -2.99396430e-04, -1.41448211e-02,  3.65076005e-03,  2.07262463e-03,\n",
              "        -1.91229396e-02,  1.46048972e-02, -1.38919279e-02, -4.23732493e-03,\n",
              "         2.31923605e-03,  1.31167956e-02, -1.02810031e-02,  2.45890091e-03,\n",
              "        -3.57441511e-03, -8.17451160e-03, -9.91488528e-03, -2.37601716e-02,\n",
              "         7.64222257e-03, -1.14756329e-02, -1.26366923e-03,  9.65576991e-03,\n",
              "         9.04191169e-04, -9.08199977e-03,  1.36814946e-02, -2.19023507e-02,\n",
              "        -1.11545594e-02,  6.00484246e-03,  5.05743455e-03,  6.46520359e-03,\n",
              "         1.39428843e-02,  4.22889745e-04, -2.16369540e-03, -2.71124067e-03,\n",
              "        -5.20842476e-03, -9.58882086e-03,  4.09645075e-03, -8.12476128e-03,\n",
              "         6.63432432e-03, -8.98547657e-03,  6.42200187e-03,  1.10608814e-02,\n",
              "        -1.22033041e-02,  6.66372105e-03, -1.14945469e-04, -9.97554162e-04,\n",
              "        -6.94062561e-03, -3.07514169e-03,  7.57101225e-03, -1.26129203e-02,\n",
              "        -7.42032134e-04, -1.05792359e-02,  9.56525654e-03, -1.57204848e-02,\n",
              "        -3.42689891e-04, -6.46890700e-03,  1.83025992e-03, -3.70221795e-03,\n",
              "         1.75897367e-02, -6.41828263e-03, -8.23845994e-03, -4.85526398e-03,\n",
              "        -2.85494630e-03,  7.49391783e-03,  2.13001557e-02,  2.18565715e-03,\n",
              "         8.84376466e-03,  1.14806890e-02, -4.53527318e-03, -8.26653186e-03,\n",
              "        -1.11930221e-02,  2.81696278e-03,  1.33075099e-03,  1.37498761e-02,\n",
              "        -1.33059258e-02, -1.18010193e-02, -3.46302055e-03,  1.07394550e-02,\n",
              "        -1.09990826e-02, -1.20676747e-02,  1.30575360e-03,  1.19749866e-02,\n",
              "        -2.07491275e-02,  2.11076788e-03, -3.57219554e-03,  1.12368595e-02,\n",
              "        -1.15444241e-02,  6.61868617e-05,  1.73584037e-02,  1.50658889e-02,\n",
              "         4.88388818e-03, -1.66800094e-03,  6.31418731e-03,  5.19256515e-04,\n",
              "         4.52934206e-03,  5.42579778e-03,  4.38267336e-04, -2.78085790e-04,\n",
              "         1.32387588e-02, -3.30379442e-03,  4.33774665e-03, -1.13345915e-02,\n",
              "        -2.77386326e-02,  1.65286865e-02,  3.74071766e-03, -3.72044742e-03,\n",
              "        -6.80068135e-03, -1.71816908e-03, -9.93492268e-03,  2.08464433e-02,\n",
              "         1.59719400e-02, -1.43443467e-02,  1.01630120e-02, -9.58343409e-03,\n",
              "        -1.86135154e-02,  1.34669691e-02, -1.92326983e-03,  1.09330909e-02,\n",
              "        -8.38608295e-03, -1.02300076e-02,  1.49101960e-02, -6.64211018e-03,\n",
              "         1.38108060e-02, -1.93059759e-03,  1.96679914e-03,  5.66220982e-03,\n",
              "        -1.77499112e-02,  1.36021227e-02, -1.72998829e-04, -6.58211019e-03,\n",
              "         1.97092327e-03,  6.11125026e-03, -1.78171881e-03, -6.10033190e-03,\n",
              "        -9.31733008e-03, -1.02906965e-03,  1.63401980e-02,  3.49730806e-04,\n",
              "        -1.13582797e-02,  3.97041673e-04, -3.26843816e-03,  1.58550572e-02,\n",
              "         1.10646207e-02,  1.59301739e-02, -2.72735953e-03, -1.63348671e-02,\n",
              "         1.01034977e-02, -4.50124918e-03, -1.68012436e-02,  2.07299716e-04,\n",
              "        -1.05723282e-02,  9.40759946e-03,  9.90583189e-03, -1.37534775e-02,\n",
              "        -1.29373074e-02, -1.63159538e-02,  7.95886014e-03, -7.77246896e-03,\n",
              "        -6.71063492e-04,  7.84003362e-03, -1.31309880e-02,  4.39393707e-03,\n",
              "         6.55469298e-03, -4.68687300e-04, -1.03483330e-02, -4.01095860e-03,\n",
              "         8.21249280e-03, -1.30602662e-02,  3.46264406e-03,  2.31984048e-03,\n",
              "         1.97977480e-02, -6.12389715e-03,  2.11449992e-03, -6.24161738e-04,\n",
              "        -6.10389980e-03, -6.96693920e-03, -6.83241757e-03,  5.24611794e-04,\n",
              "         1.54789407e-02,  1.72456857e-02,  3.59568256e-03, -1.72253081e-03,\n",
              "         1.76808320e-03,  1.22177480e-02,  2.24678516e-02,  3.50823277e-03,\n",
              "        -1.22238174e-02,  1.86173210e-03, -6.27175439e-04,  2.74992008e-02,\n",
              "         2.25732592e-03,  1.84355062e-02, -1.61831826e-02, -8.22914578e-03,\n",
              "        -2.33339854e-02,  1.69864818e-02,  1.70760287e-03, -9.83692333e-03,\n",
              "        -7.44804041e-03, -3.03872628e-03, -8.36819410e-03, -9.30130389e-03,\n",
              "         1.77642703e-02, -8.35343916e-03, -7.80042680e-03,  6.72071381e-03,\n",
              "        -3.23209376e-03, -6.51474984e-04,  9.27247666e-03, -6.58155978e-03,\n",
              "         5.54214465e-03, -4.01325524e-03,  1.53975897e-02,  2.83661485e-03,\n",
              "         1.90762244e-02,  4.32385271e-03, -7.91449845e-03,  1.51792599e-03,\n",
              "        -3.98267526e-03, -7.25041004e-03, -1.10723276e-03,  1.11793941e-02,\n",
              "        -3.77308275e-03, -9.01266374e-03,  8.19177483e-04,  1.91739260e-03,\n",
              "         4.57026809e-03,  1.89886964e-03, -5.20400330e-03,  1.37985265e-03,\n",
              "         5.83405001e-03, -4.19622660e-03,  1.25943720e-02,  3.05298110e-03,\n",
              "         2.83360155e-03,  2.14235298e-02, -1.78549867e-02, -4.79921931e-03,\n",
              "         5.44082373e-03,  3.63063393e-03,  1.56048164e-02,  1.12546114e-02,\n",
              "        -2.90272641e-03, -2.12601330e-02,  6.03608927e-03, -1.79250538e-02,\n",
              "        -4.51444741e-03, -2.89080013e-03,  4.87112487e-03,  1.06267706e-02,\n",
              "         9.03160963e-03,  2.79717799e-03, -5.60454745e-03, -1.37903923e-02,\n",
              "         1.50091480e-02, -6.22220756e-03,  9.39244498e-03,  9.29439534e-03,\n",
              "         1.74947549e-02, -3.40927602e-03,  5.00597525e-04, -4.97992989e-03,\n",
              "         1.82468034e-02, -1.35678677e-02, -5.55816898e-03, -6.42770715e-03,\n",
              "         4.84188972e-03,  1.20891421e-03,  4.08653822e-03,  3.21670645e-03],\n",
              "       dtype=float32),\n",
              " array([[-0.1322066 , -0.00298979, -0.02264663, ..., -0.02417073,\n",
              "          0.058424  , -0.0392156 ],\n",
              "        [ 0.0781639 ,  0.08509684,  0.05474116, ..., -0.03073018,\n",
              "         -0.1170659 ,  0.09482223],\n",
              "        [ 0.04890947,  0.02367662, -0.02000607, ...,  0.03950988,\n",
              "         -0.11607314, -0.06841518],\n",
              "        ...,\n",
              "        [-0.0008246 ,  0.11688302,  0.0477316 , ...,  0.0331554 ,\n",
              "         -0.09472523,  0.05805183],\n",
              "        [ 0.05294903, -0.1686063 , -0.01889187, ...,  0.07120368,\n",
              "          0.2035956 , -0.08925023],\n",
              "        [ 0.00306758,  0.00943249,  0.10226022, ..., -0.0689218 ,\n",
              "         -0.03450562, -0.02554792]], dtype=float32),\n",
              " array([-7.7590509e-03,  6.1927242e-03, -2.9181065e-03, -1.5920125e-03,\n",
              "        -2.7864471e-03,  1.0832353e-02, -9.4659552e-03, -2.0042622e-04,\n",
              "        -1.0453328e-03, -1.0389943e-02, -1.4829680e-03, -6.2231454e-03,\n",
              "         1.4476191e-03, -3.8530042e-03, -1.2326033e-02, -2.9680557e-03,\n",
              "         8.3512254e-03,  5.0048348e-03, -4.8580212e-03,  1.2238615e-03,\n",
              "         3.6691774e-03,  3.6417532e-03,  4.2323391e-03,  2.4721769e-03,\n",
              "        -3.3240533e-03,  4.5922259e-03, -6.8476098e-03,  7.0438320e-03,\n",
              "        -1.2967555e-03, -5.4888782e-04, -4.8637129e-03, -9.5380307e-04,\n",
              "        -2.9070957e-03,  9.4862469e-03, -1.3927507e-03, -2.9529277e-03,\n",
              "        -6.7120083e-03, -3.0940257e-03,  2.8612129e-03, -2.9241359e-03,\n",
              "         3.8667528e-03,  1.1881343e-03,  5.4660970e-03, -5.5629076e-03,\n",
              "         3.2602036e-03,  1.9796093e-03, -9.2633944e-03, -7.4985852e-03,\n",
              "         3.5105818e-03,  8.6919414e-03, -3.2366735e-03,  3.1733923e-03,\n",
              "         2.7264943e-03,  9.7953547e-03, -3.4810775e-03, -3.2374237e-03,\n",
              "        -5.5401535e-03, -6.2317913e-03, -1.3016755e-02,  9.6770102e-04,\n",
              "         1.9236810e-03,  2.3679850e-03, -2.9710813e-03, -5.5534174e-03,\n",
              "         4.2098565e-03,  5.6615965e-03,  7.2804843e-03, -5.4730377e-03,\n",
              "        -3.2440247e-03,  1.4436357e-03,  1.2366872e-04,  1.5922269e-02,\n",
              "        -7.7551748e-03,  5.9753940e-03,  3.4085391e-03, -8.0789858e-03,\n",
              "         1.4172959e-02,  8.1346147e-03,  1.0679187e-02, -4.0107402e-03,\n",
              "         6.4036185e-03, -8.5236747e-03, -4.5436979e-03,  1.0452475e-02,\n",
              "        -6.2587853e-03,  1.2920639e-02,  2.2855352e-03,  8.8822823e-03,\n",
              "         3.4381489e-03,  7.4197407e-05, -6.3692937e-03, -1.3738047e-02,\n",
              "        -2.8606777e-03,  5.5001043e-03, -3.8955507e-03, -3.5199781e-03,\n",
              "        -3.1952087e-03, -5.8041448e-03,  2.3242228e-03, -2.0599223e-03,\n",
              "         9.3344810e-05, -7.0273411e-03,  3.8948269e-03, -5.2479221e-03,\n",
              "        -3.9665140e-03,  4.9991673e-03,  4.1353437e-03, -3.7181238e-03,\n",
              "         3.1770451e-03,  1.5378346e-03,  1.4424392e-03,  1.5053767e-03,\n",
              "        -9.4716074e-03, -5.3147255e-03,  7.6794840e-04, -7.9276394e-03,\n",
              "         4.3769800e-03,  7.3292041e-03, -2.6251923e-03, -7.6696691e-03,\n",
              "        -6.4075305e-03, -2.7302904e-03, -3.2244008e-03,  6.8050544e-03,\n",
              "        -2.2154256e-04, -6.3457661e-03,  1.4702705e-02, -2.3252067e-05],\n",
              "       dtype=float32),\n",
              " array([[-0.10661812, -0.45040736, -0.04835153, ...,  0.00545235,\n",
              "          0.58108425,  0.5437153 ],\n",
              "        [-0.7789019 ,  0.4347315 , -0.76183796, ...,  0.41477168,\n",
              "          0.19228253, -0.00782563],\n",
              "        [-0.28025046, -0.09572392,  0.13813   , ...,  0.00858161,\n",
              "          0.28370315, -0.06296364],\n",
              "        ...,\n",
              "        [-0.3911137 ,  0.5567877 ,  0.04558571, ...,  0.457078  ,\n",
              "          0.12658843,  0.6200088 ],\n",
              "        [ 0.6031479 , -0.31262165,  0.5146315 , ..., -0.28822613,\n",
              "         -0.37020782, -0.32524058],\n",
              "        [ 0.28743088, -0.5060348 , -0.1447358 , ..., -0.00246879,\n",
              "          0.3191513 , -0.025452  ]], dtype=float32),\n",
              " array([-0.00699897, -0.04767487,  0.00080751,  0.04749025, -0.01044867,\n",
              "         0.03827099, -0.002401  ,  0.00592626, -0.00245172, -0.02251932],\n",
              "       dtype=float32)]"
            ]
          },
          "metadata": {
            "tags": []
          },
          "execution_count": 63
        }
      ]
    },
    {
      "cell_type": "code",
      "metadata": {
        "id": "dLM6Zs-vQABg",
        "colab_type": "code",
        "colab": {
          "base_uri": "https://localhost:8080/",
          "height": 1000
        },
        "outputId": "cd26fc65-dfaf-4008-bdc4-5fe27cf1e744"
      },
      "source": [
        "for lay in model_sigmoid.layers:\n",
        "  print(\"layer name : \",lay.name)\n",
        "  print(\"layer weight : \",lay.get_weights())"
      ],
      "execution_count": 64,
      "outputs": [
        {
          "output_type": "stream",
          "text": [
            "layer name :  dense_20\n",
            "layer weight :  [array([[-0.06225128, -0.03528785,  0.05064272, ..., -0.01068532,\n",
            "         0.04654934, -0.01012337],\n",
            "       [ 0.04252254, -0.05726437, -0.03937528, ...,  0.00464006,\n",
            "         0.06070307,  0.06228204],\n",
            "       [ 0.04343514,  0.02374634, -0.01561187, ...,  0.06283514,\n",
            "         0.04170862,  0.03775747],\n",
            "       ...,\n",
            "       [-0.01232446,  0.04469053,  0.00397267, ...,  0.06218268,\n",
            "        -0.00760386,  0.00903843],\n",
            "       [-0.04272328, -0.03402822, -0.02965901, ...,  0.00828134,\n",
            "        -0.00282244,  0.05549405],\n",
            "       [-0.03875706,  0.01119785, -0.04784909, ...,  0.0433208 ,\n",
            "        -0.06034803, -0.05031545]], dtype=float32), array([-3.88360326e-03,  3.32205702e-04, -1.66801102e-02, -8.72764550e-03,\n",
            "        1.68953799e-02, -1.00270445e-04, -1.36166782e-04,  1.24724489e-02,\n",
            "       -1.07986303e-02, -1.00583415e-02,  3.57129448e-03, -1.14491477e-03,\n",
            "       -1.13050798e-02,  2.94248294e-02,  6.45915605e-03, -6.06080610e-03,\n",
            "       -2.40081875e-03,  1.76598225e-03,  3.03970138e-03, -4.71020723e-03,\n",
            "       -7.12989457e-03, -2.48160982e-03,  4.47549624e-03, -9.14602599e-04,\n",
            "       -8.41365661e-04,  1.35784866e-02, -7.21632596e-03, -3.10842949e-03,\n",
            "       -1.09403459e-02,  6.89445203e-03, -9.05168429e-03, -6.94730692e-03,\n",
            "       -1.27298683e-02,  5.79404132e-03,  9.14028380e-03,  8.63450672e-03,\n",
            "        4.43478208e-03,  6.94751367e-03, -6.27879146e-03, -2.26403959e-02,\n",
            "        4.02634870e-03,  2.14579012e-02, -9.15938709e-03, -9.90029797e-03,\n",
            "       -4.63214377e-03,  3.72777414e-03,  5.20588481e-04, -4.49018180e-03,\n",
            "        7.42404605e-04, -1.34520624e-02,  1.52043113e-02, -5.27081406e-03,\n",
            "       -1.71900876e-02,  2.75892694e-03,  1.56411044e-02,  4.43212548e-03,\n",
            "       -7.82845542e-03,  1.86329819e-02, -7.94772990e-03, -3.34890559e-04,\n",
            "       -1.13187516e-02,  2.45324615e-02,  4.97972919e-03,  1.99722107e-02,\n",
            "       -1.77719481e-02, -5.61976153e-03, -2.93646706e-03,  4.11584834e-03,\n",
            "        5.88101626e-04,  2.18938924e-02, -5.39709954e-03,  1.27768125e-02,\n",
            "       -6.56674802e-03, -3.02452594e-03,  2.76874797e-03,  7.16361357e-03,\n",
            "        1.67871881e-02,  2.56105489e-03, -3.89168272e-03,  3.73661774e-03,\n",
            "        1.71968155e-02, -7.18488358e-03,  1.53682511e-02,  4.20727115e-03,\n",
            "       -1.18525478e-03,  1.73044987e-02,  1.62342805e-02,  3.71040148e-03,\n",
            "       -1.05883647e-03,  3.23402951e-03, -1.38694132e-02, -3.52545129e-03,\n",
            "        9.37634800e-03,  5.77045279e-03,  2.68787867e-03, -4.95214993e-03,\n",
            "        2.17600986e-02, -1.79287163e-04,  4.59705992e-03, -1.28886197e-03,\n",
            "        3.36635322e-03, -1.17876887e-04, -1.73545517e-02,  8.80791713e-03,\n",
            "       -2.49017365e-02,  1.10320980e-02,  1.63343700e-03, -5.03032980e-03,\n",
            "        1.16108842e-02,  3.26077780e-03, -1.91496802e-03,  1.21640936e-02,\n",
            "       -2.22677048e-02,  7.46786315e-03, -2.55329013e-02,  4.45781182e-03,\n",
            "        2.22864226e-04,  1.38311712e-02, -3.91751470e-04, -7.44018529e-04,\n",
            "       -1.00003509e-02,  2.78718537e-03,  9.56819952e-03, -1.92959711e-03,\n",
            "        6.48556789e-03,  1.42242359e-02,  3.07155424e-03,  2.20158827e-02,\n",
            "       -3.89042456e-04,  5.68599766e-03, -2.23095925e-03, -9.78717115e-04,\n",
            "        1.75950374e-03, -1.61975864e-02,  2.29531527e-02,  3.44348792e-03,\n",
            "        3.08286189e-03, -6.06602337e-03,  1.71212200e-03,  1.58879894e-03,\n",
            "        2.90596765e-03, -2.51878053e-03,  4.69130417e-03, -1.02744838e-02,\n",
            "        3.53165437e-03, -1.15117175e-03,  3.85952252e-03,  2.10162997e-02,\n",
            "        1.24788284e-02,  6.68649562e-03,  8.44168011e-03, -1.84866749e-02,\n",
            "        1.57875456e-02,  1.31564960e-03,  9.95382480e-03, -5.97987091e-03,\n",
            "        4.89899144e-03, -3.97260417e-04,  1.62292307e-03, -7.93589652e-03,\n",
            "        2.54544150e-02,  3.54634190e-04, -4.22919344e-04, -1.07189140e-03,\n",
            "        2.66270945e-03,  1.04794763e-02,  6.33511343e-04,  1.13114703e-03,\n",
            "       -1.40469959e-02,  9.44804680e-03,  1.60366707e-02,  5.69905853e-03,\n",
            "       -5.33667672e-03, -4.44400776e-03, -1.47182392e-02, -9.38519556e-03,\n",
            "        1.57483499e-02,  7.32253771e-03,  7.25959335e-03,  6.50820148e-04,\n",
            "        1.05585577e-02,  1.00318929e-02,  9.81022976e-03, -4.92260046e-03,\n",
            "       -1.90360285e-02, -1.67119075e-02,  7.99874123e-03,  7.51601346e-03,\n",
            "        1.05845428e-03, -5.09693706e-03,  2.01098761e-03,  4.82476177e-03,\n",
            "        6.14755321e-03, -1.08899232e-02, -2.00018734e-02,  3.45938653e-03,\n",
            "        5.78905223e-03, -2.11772000e-04,  1.96919334e-03,  6.07496477e-04,\n",
            "       -4.87238285e-05,  1.27736283e-02,  1.66500621e-02,  7.62282033e-03,\n",
            "       -2.95362324e-02,  1.24242716e-02, -5.80412243e-03, -1.39127187e-02,\n",
            "        5.65098412e-03, -1.97367766e-03, -9.43173189e-04,  4.28026030e-03,\n",
            "       -1.73601322e-02,  3.11817997e-03, -4.11322387e-03, -1.79817656e-03,\n",
            "       -1.09632721e-03, -1.02783395e-02,  1.58099700e-02, -1.06880404e-02,\n",
            "       -5.02051611e-04,  9.88618284e-03, -4.02904669e-04, -5.21241175e-03,\n",
            "       -1.67481601e-02,  1.03037385e-02, -7.38676647e-07,  1.56741012e-02,\n",
            "        1.44835014e-03, -6.55708089e-03, -4.92547639e-03, -6.89542666e-03,\n",
            "       -9.75837186e-03, -5.94748044e-03,  9.72512830e-03,  1.53477667e-02,\n",
            "       -1.68828703e-02,  5.15352329e-03, -1.83439236e-02, -2.17015576e-02,\n",
            "        3.73263122e-03, -5.00216708e-03, -1.82610173e-02, -4.47991258e-03,\n",
            "       -2.99396430e-04, -1.41448211e-02,  3.65076005e-03,  2.07262463e-03,\n",
            "       -1.91229396e-02,  1.46048972e-02, -1.38919279e-02, -4.23732493e-03,\n",
            "        2.31923605e-03,  1.31167956e-02, -1.02810031e-02,  2.45890091e-03,\n",
            "       -3.57441511e-03, -8.17451160e-03, -9.91488528e-03, -2.37601716e-02,\n",
            "        7.64222257e-03, -1.14756329e-02, -1.26366923e-03,  9.65576991e-03,\n",
            "        9.04191169e-04, -9.08199977e-03,  1.36814946e-02, -2.19023507e-02,\n",
            "       -1.11545594e-02,  6.00484246e-03,  5.05743455e-03,  6.46520359e-03,\n",
            "        1.39428843e-02,  4.22889745e-04, -2.16369540e-03, -2.71124067e-03,\n",
            "       -5.20842476e-03, -9.58882086e-03,  4.09645075e-03, -8.12476128e-03,\n",
            "        6.63432432e-03, -8.98547657e-03,  6.42200187e-03,  1.10608814e-02,\n",
            "       -1.22033041e-02,  6.66372105e-03, -1.14945469e-04, -9.97554162e-04,\n",
            "       -6.94062561e-03, -3.07514169e-03,  7.57101225e-03, -1.26129203e-02,\n",
            "       -7.42032134e-04, -1.05792359e-02,  9.56525654e-03, -1.57204848e-02,\n",
            "       -3.42689891e-04, -6.46890700e-03,  1.83025992e-03, -3.70221795e-03,\n",
            "        1.75897367e-02, -6.41828263e-03, -8.23845994e-03, -4.85526398e-03,\n",
            "       -2.85494630e-03,  7.49391783e-03,  2.13001557e-02,  2.18565715e-03,\n",
            "        8.84376466e-03,  1.14806890e-02, -4.53527318e-03, -8.26653186e-03,\n",
            "       -1.11930221e-02,  2.81696278e-03,  1.33075099e-03,  1.37498761e-02,\n",
            "       -1.33059258e-02, -1.18010193e-02, -3.46302055e-03,  1.07394550e-02,\n",
            "       -1.09990826e-02, -1.20676747e-02,  1.30575360e-03,  1.19749866e-02,\n",
            "       -2.07491275e-02,  2.11076788e-03, -3.57219554e-03,  1.12368595e-02,\n",
            "       -1.15444241e-02,  6.61868617e-05,  1.73584037e-02,  1.50658889e-02,\n",
            "        4.88388818e-03, -1.66800094e-03,  6.31418731e-03,  5.19256515e-04,\n",
            "        4.52934206e-03,  5.42579778e-03,  4.38267336e-04, -2.78085790e-04,\n",
            "        1.32387588e-02, -3.30379442e-03,  4.33774665e-03, -1.13345915e-02,\n",
            "       -2.77386326e-02,  1.65286865e-02,  3.74071766e-03, -3.72044742e-03,\n",
            "       -6.80068135e-03, -1.71816908e-03, -9.93492268e-03,  2.08464433e-02,\n",
            "        1.59719400e-02, -1.43443467e-02,  1.01630120e-02, -9.58343409e-03,\n",
            "       -1.86135154e-02,  1.34669691e-02, -1.92326983e-03,  1.09330909e-02,\n",
            "       -8.38608295e-03, -1.02300076e-02,  1.49101960e-02, -6.64211018e-03,\n",
            "        1.38108060e-02, -1.93059759e-03,  1.96679914e-03,  5.66220982e-03,\n",
            "       -1.77499112e-02,  1.36021227e-02, -1.72998829e-04, -6.58211019e-03,\n",
            "        1.97092327e-03,  6.11125026e-03, -1.78171881e-03, -6.10033190e-03,\n",
            "       -9.31733008e-03, -1.02906965e-03,  1.63401980e-02,  3.49730806e-04,\n",
            "       -1.13582797e-02,  3.97041673e-04, -3.26843816e-03,  1.58550572e-02,\n",
            "        1.10646207e-02,  1.59301739e-02, -2.72735953e-03, -1.63348671e-02,\n",
            "        1.01034977e-02, -4.50124918e-03, -1.68012436e-02,  2.07299716e-04,\n",
            "       -1.05723282e-02,  9.40759946e-03,  9.90583189e-03, -1.37534775e-02,\n",
            "       -1.29373074e-02, -1.63159538e-02,  7.95886014e-03, -7.77246896e-03,\n",
            "       -6.71063492e-04,  7.84003362e-03, -1.31309880e-02,  4.39393707e-03,\n",
            "        6.55469298e-03, -4.68687300e-04, -1.03483330e-02, -4.01095860e-03,\n",
            "        8.21249280e-03, -1.30602662e-02,  3.46264406e-03,  2.31984048e-03,\n",
            "        1.97977480e-02, -6.12389715e-03,  2.11449992e-03, -6.24161738e-04,\n",
            "       -6.10389980e-03, -6.96693920e-03, -6.83241757e-03,  5.24611794e-04,\n",
            "        1.54789407e-02,  1.72456857e-02,  3.59568256e-03, -1.72253081e-03,\n",
            "        1.76808320e-03,  1.22177480e-02,  2.24678516e-02,  3.50823277e-03,\n",
            "       -1.22238174e-02,  1.86173210e-03, -6.27175439e-04,  2.74992008e-02,\n",
            "        2.25732592e-03,  1.84355062e-02, -1.61831826e-02, -8.22914578e-03,\n",
            "       -2.33339854e-02,  1.69864818e-02,  1.70760287e-03, -9.83692333e-03,\n",
            "       -7.44804041e-03, -3.03872628e-03, -8.36819410e-03, -9.30130389e-03,\n",
            "        1.77642703e-02, -8.35343916e-03, -7.80042680e-03,  6.72071381e-03,\n",
            "       -3.23209376e-03, -6.51474984e-04,  9.27247666e-03, -6.58155978e-03,\n",
            "        5.54214465e-03, -4.01325524e-03,  1.53975897e-02,  2.83661485e-03,\n",
            "        1.90762244e-02,  4.32385271e-03, -7.91449845e-03,  1.51792599e-03,\n",
            "       -3.98267526e-03, -7.25041004e-03, -1.10723276e-03,  1.11793941e-02,\n",
            "       -3.77308275e-03, -9.01266374e-03,  8.19177483e-04,  1.91739260e-03,\n",
            "        4.57026809e-03,  1.89886964e-03, -5.20400330e-03,  1.37985265e-03,\n",
            "        5.83405001e-03, -4.19622660e-03,  1.25943720e-02,  3.05298110e-03,\n",
            "        2.83360155e-03,  2.14235298e-02, -1.78549867e-02, -4.79921931e-03,\n",
            "        5.44082373e-03,  3.63063393e-03,  1.56048164e-02,  1.12546114e-02,\n",
            "       -2.90272641e-03, -2.12601330e-02,  6.03608927e-03, -1.79250538e-02,\n",
            "       -4.51444741e-03, -2.89080013e-03,  4.87112487e-03,  1.06267706e-02,\n",
            "        9.03160963e-03,  2.79717799e-03, -5.60454745e-03, -1.37903923e-02,\n",
            "        1.50091480e-02, -6.22220756e-03,  9.39244498e-03,  9.29439534e-03,\n",
            "        1.74947549e-02, -3.40927602e-03,  5.00597525e-04, -4.97992989e-03,\n",
            "        1.82468034e-02, -1.35678677e-02, -5.55816898e-03, -6.42770715e-03,\n",
            "        4.84188972e-03,  1.20891421e-03,  4.08653822e-03,  3.21670645e-03],\n",
            "      dtype=float32)]\n",
            "layer name :  dense_21\n",
            "layer weight :  [array([[-0.1322066 , -0.00298979, -0.02264663, ..., -0.02417073,\n",
            "         0.058424  , -0.0392156 ],\n",
            "       [ 0.0781639 ,  0.08509684,  0.05474116, ..., -0.03073018,\n",
            "        -0.1170659 ,  0.09482223],\n",
            "       [ 0.04890947,  0.02367662, -0.02000607, ...,  0.03950988,\n",
            "        -0.11607314, -0.06841518],\n",
            "       ...,\n",
            "       [-0.0008246 ,  0.11688302,  0.0477316 , ...,  0.0331554 ,\n",
            "        -0.09472523,  0.05805183],\n",
            "       [ 0.05294903, -0.1686063 , -0.01889187, ...,  0.07120368,\n",
            "         0.2035956 , -0.08925023],\n",
            "       [ 0.00306758,  0.00943249,  0.10226022, ..., -0.0689218 ,\n",
            "        -0.03450562, -0.02554792]], dtype=float32), array([-7.7590509e-03,  6.1927242e-03, -2.9181065e-03, -1.5920125e-03,\n",
            "       -2.7864471e-03,  1.0832353e-02, -9.4659552e-03, -2.0042622e-04,\n",
            "       -1.0453328e-03, -1.0389943e-02, -1.4829680e-03, -6.2231454e-03,\n",
            "        1.4476191e-03, -3.8530042e-03, -1.2326033e-02, -2.9680557e-03,\n",
            "        8.3512254e-03,  5.0048348e-03, -4.8580212e-03,  1.2238615e-03,\n",
            "        3.6691774e-03,  3.6417532e-03,  4.2323391e-03,  2.4721769e-03,\n",
            "       -3.3240533e-03,  4.5922259e-03, -6.8476098e-03,  7.0438320e-03,\n",
            "       -1.2967555e-03, -5.4888782e-04, -4.8637129e-03, -9.5380307e-04,\n",
            "       -2.9070957e-03,  9.4862469e-03, -1.3927507e-03, -2.9529277e-03,\n",
            "       -6.7120083e-03, -3.0940257e-03,  2.8612129e-03, -2.9241359e-03,\n",
            "        3.8667528e-03,  1.1881343e-03,  5.4660970e-03, -5.5629076e-03,\n",
            "        3.2602036e-03,  1.9796093e-03, -9.2633944e-03, -7.4985852e-03,\n",
            "        3.5105818e-03,  8.6919414e-03, -3.2366735e-03,  3.1733923e-03,\n",
            "        2.7264943e-03,  9.7953547e-03, -3.4810775e-03, -3.2374237e-03,\n",
            "       -5.5401535e-03, -6.2317913e-03, -1.3016755e-02,  9.6770102e-04,\n",
            "        1.9236810e-03,  2.3679850e-03, -2.9710813e-03, -5.5534174e-03,\n",
            "        4.2098565e-03,  5.6615965e-03,  7.2804843e-03, -5.4730377e-03,\n",
            "       -3.2440247e-03,  1.4436357e-03,  1.2366872e-04,  1.5922269e-02,\n",
            "       -7.7551748e-03,  5.9753940e-03,  3.4085391e-03, -8.0789858e-03,\n",
            "        1.4172959e-02,  8.1346147e-03,  1.0679187e-02, -4.0107402e-03,\n",
            "        6.4036185e-03, -8.5236747e-03, -4.5436979e-03,  1.0452475e-02,\n",
            "       -6.2587853e-03,  1.2920639e-02,  2.2855352e-03,  8.8822823e-03,\n",
            "        3.4381489e-03,  7.4197407e-05, -6.3692937e-03, -1.3738047e-02,\n",
            "       -2.8606777e-03,  5.5001043e-03, -3.8955507e-03, -3.5199781e-03,\n",
            "       -3.1952087e-03, -5.8041448e-03,  2.3242228e-03, -2.0599223e-03,\n",
            "        9.3344810e-05, -7.0273411e-03,  3.8948269e-03, -5.2479221e-03,\n",
            "       -3.9665140e-03,  4.9991673e-03,  4.1353437e-03, -3.7181238e-03,\n",
            "        3.1770451e-03,  1.5378346e-03,  1.4424392e-03,  1.5053767e-03,\n",
            "       -9.4716074e-03, -5.3147255e-03,  7.6794840e-04, -7.9276394e-03,\n",
            "        4.3769800e-03,  7.3292041e-03, -2.6251923e-03, -7.6696691e-03,\n",
            "       -6.4075305e-03, -2.7302904e-03, -3.2244008e-03,  6.8050544e-03,\n",
            "       -2.2154256e-04, -6.3457661e-03,  1.4702705e-02, -2.3252067e-05],\n",
            "      dtype=float32)]\n",
            "layer name :  dense_22\n",
            "layer weight :  [array([[-0.10661812, -0.45040736, -0.04835153, ...,  0.00545235,\n",
            "         0.58108425,  0.5437153 ],\n",
            "       [-0.7789019 ,  0.4347315 , -0.76183796, ...,  0.41477168,\n",
            "         0.19228253, -0.00782563],\n",
            "       [-0.28025046, -0.09572392,  0.13813   , ...,  0.00858161,\n",
            "         0.28370315, -0.06296364],\n",
            "       ...,\n",
            "       [-0.3911137 ,  0.5567877 ,  0.04558571, ...,  0.457078  ,\n",
            "         0.12658843,  0.6200088 ],\n",
            "       [ 0.6031479 , -0.31262165,  0.5146315 , ..., -0.28822613,\n",
            "        -0.37020782, -0.32524058],\n",
            "       [ 0.28743088, -0.5060348 , -0.1447358 , ..., -0.00246879,\n",
            "         0.3191513 , -0.025452  ]], dtype=float32), array([-0.00699897, -0.04767487,  0.00080751,  0.04749025, -0.01044867,\n",
            "        0.03827099, -0.002401  ,  0.00592626, -0.00245172, -0.02251932],\n",
            "      dtype=float32)]\n"
          ],
          "name": "stdout"
        }
      ]
    },
    {
      "cell_type": "code",
      "metadata": {
        "id": "J4XCPcyDNBZH",
        "colab_type": "code",
        "colab": {
          "base_uri": "https://localhost:8080/",
          "height": 285
        },
        "outputId": "299ddfd2-167e-47d2-868d-457a4420d744"
      },
      "source": [
        "h1_w = w_after[0].reshape(-1,1)\n",
        "h2_w = w_after[2].reshape(-1,1)\n",
        "out_w = w_after[4].reshape(-1,1)\n",
        "\n",
        "fig = plt.figure()\n",
        "plt.title(\"Weight matrices after model trained\")\n",
        "\n",
        "plt.subplot(1,3,1)\n",
        "plt.title(\"trained model weights\")\n",
        "ax = sns.violinplot(y = h1_w,color='b')\n",
        "plt.xlabel(\"hidden layer 1\")\n",
        "\n",
        "\n",
        "plt.subplot(1,3,2)\n",
        "plt.title(\"trained model weights\")\n",
        "ax = sns.violinplot(y = h2_w,color='r')\n",
        "plt.xlabel(\"hidden layer 2\")\n",
        "\n",
        "\n",
        "plt.subplot(1,3,3)\n",
        "plt.title(\"trained model weights\")\n",
        "ax = sns.violinplot(y = out_w,color='y')\n",
        "plt.xlabel(\"hidden layer 1\")\n",
        "\n",
        "plt.show()"
      ],
      "execution_count": 65,
      "outputs": [
        {
          "output_type": "display_data",
          "data": {
            "image/png": "[encoded data removed]",
            "text/plain": [
              "<Figure size 432x288 with 3 Axes>"
            ]
          },
          "metadata": {
            "tags": [],
            "needs_background": "light"
          }
        }
      ]
    },
    {
      "cell_type": "markdown",
      "metadata": {
        "id": "1qas9hZZiGG3",
        "colab_type": "text"
      },
      "source": [
        "# MLP + Sigmoid activation + ADAM"
      ]
    },
    {
      "cell_type": "code",
      "metadata": {
        "id": "EZBy3IuGRcCq",
        "colab_type": "code",
        "colab": {
          "base_uri": "https://localhost:8080/",
          "height": 935
        },
        "outputId": "c478582b-eefe-49dc-c93b-4174e58de872"
      },
      "source": [
        "model_sigmoid = Sequential()\n",
        "model_sigmoid.add(Dense(512 , activation = 'sigmoid',input_shape=(input_dim,)))\n",
        "model_sigmoid.add(Dense(128,activation='sigmoid'))\n",
        "model_sigmoid.add(Dense(output_dim,activation='softmax'))\n",
        "\n",
        "model_sigmoid.summary()\n",
        "\n",
        "model_sigmoid.compile(optimizer='adam',loss='categorical_crossentropy',metrics='accuracy')\n",
        "\n",
        "history = model_sigmoid.fit(x=X_train,y=Y_train,epochs=epoch,verbose=1,validation_data=(X_test,Y_test))"
      ],
      "execution_count": 66,
      "outputs": [
        {
          "output_type": "stream",
          "text": [
            "Model: \"sequential_10\"\n",
            "_________________________________________________________________\n",
            "Layer (type)                 Output Shape              Param #   \n",
            "=================================================================\n",
            "dense_23 (Dense)             (None, 512)               401920    \n",
            "_________________________________________________________________\n",
            "dense_24 (Dense)             (None, 128)               65664     \n",
            "_________________________________________________________________\n",
            "dense_25 (Dense)             (None, 10)                1290      \n",
            "=================================================================\n",
            "Total params: 468,874\n",
            "Trainable params: 468,874\n",
            "Non-trainable params: 0\n",
            "_________________________________________________________________\n",
            "Epoch 1/20\n",
            "1875/1875 [==============================] - 6s 3ms/step - loss: 0.3602 - accuracy: 0.8981 - val_loss: 0.1798 - val_accuracy: 0.9471\n",
            "Epoch 2/20\n",
            "1875/1875 [==============================] - 5s 3ms/step - loss: 0.1458 - accuracy: 0.9564 - val_loss: 0.1248 - val_accuracy: 0.9618\n",
            "Epoch 3/20\n",
            "1875/1875 [==============================] - 5s 3ms/step - loss: 0.0939 - accuracy: 0.9714 - val_loss: 0.0886 - val_accuracy: 0.9731\n",
            "Epoch 4/20\n",
            "1875/1875 [==============================] - 5s 3ms/step - loss: 0.0646 - accuracy: 0.9804 - val_loss: 0.0813 - val_accuracy: 0.9755\n",
            "Epoch 5/20\n",
            "1875/1875 [==============================] - 5s 3ms/step - loss: 0.0472 - accuracy: 0.9855 - val_loss: 0.0696 - val_accuracy: 0.9784\n",
            "Epoch 6/20\n",
            "1875/1875 [==============================] - 5s 3ms/step - loss: 0.0343 - accuracy: 0.9892 - val_loss: 0.0707 - val_accuracy: 0.9785\n",
            "Epoch 7/20\n",
            "1875/1875 [==============================] - 5s 3ms/step - loss: 0.0249 - accuracy: 0.9923 - val_loss: 0.0714 - val_accuracy: 0.9779\n",
            "Epoch 8/20\n",
            "1875/1875 [==============================] - 5s 3ms/step - loss: 0.0185 - accuracy: 0.9946 - val_loss: 0.0617 - val_accuracy: 0.9816\n",
            "Epoch 9/20\n",
            "1875/1875 [==============================] - 5s 3ms/step - loss: 0.0139 - accuracy: 0.9960 - val_loss: 0.0772 - val_accuracy: 0.9789\n",
            "Epoch 10/20\n",
            "1875/1875 [==============================] - 5s 3ms/step - loss: 0.0109 - accuracy: 0.9969 - val_loss: 0.0683 - val_accuracy: 0.9816\n",
            "Epoch 11/20\n",
            "1875/1875 [==============================] - 5s 3ms/step - loss: 0.0088 - accuracy: 0.9973 - val_loss: 0.0699 - val_accuracy: 0.9820\n",
            "Epoch 12/20\n",
            "1875/1875 [==============================] - 5s 3ms/step - loss: 0.0072 - accuracy: 0.9979 - val_loss: 0.0754 - val_accuracy: 0.9812\n",
            "Epoch 13/20\n",
            "1875/1875 [==============================] - 5s 3ms/step - loss: 0.0066 - accuracy: 0.9980 - val_loss: 0.0787 - val_accuracy: 0.9817\n",
            "Epoch 14/20\n",
            "1875/1875 [==============================] - 5s 3ms/step - loss: 0.0060 - accuracy: 0.9980 - val_loss: 0.0773 - val_accuracy: 0.9804\n",
            "Epoch 15/20\n",
            "1875/1875 [==============================] - 5s 3ms/step - loss: 0.0051 - accuracy: 0.9985 - val_loss: 0.0879 - val_accuracy: 0.9798\n",
            "Epoch 16/20\n",
            "1875/1875 [==============================] - 5s 3ms/step - loss: 0.0042 - accuracy: 0.9987 - val_loss: 0.0884 - val_accuracy: 0.9803\n",
            "Epoch 17/20\n",
            "1875/1875 [==============================] - 5s 3ms/step - loss: 0.0048 - accuracy: 0.9986 - val_loss: 0.0772 - val_accuracy: 0.9831\n",
            "Epoch 18/20\n",
            "1875/1875 [==============================] - 5s 3ms/step - loss: 0.0043 - accuracy: 0.9986 - val_loss: 0.0876 - val_accuracy: 0.9809\n",
            "Epoch 19/20\n",
            "1875/1875 [==============================] - 6s 3ms/step - loss: 0.0030 - accuracy: 0.9992 - val_loss: 0.0850 - val_accuracy: 0.9819\n",
            "Epoch 20/20\n",
            "1875/1875 [==============================] - 6s 3ms/step - loss: 0.0032 - accuracy: 0.9990 - val_loss: 0.0841 - val_accuracy: 0.9837\n"
          ],
          "name": "stdout"
        }
      ]
    },
    {
      "cell_type": "code",
      "metadata": {
        "id": "6ww_tqRtjB1Y",
        "colab_type": "code",
        "colab": {
          "base_uri": "https://localhost:8080/",
          "height": 330
        },
        "outputId": "314f00c7-d89d-4286-ecb0-a0b92fdebd9c"
      },
      "source": [
        "score = model.evaluate(x=X_test,y=Y_test,verbose=1)\n",
        "print(\"test loss : \",score[0])\n",
        "print(\"test accuracy : \",score[1])\n",
        "\n",
        "fig , ax = plt.subplots(1,1)\n",
        "ax.set_xlabel(\"Epoch\")\n",
        "ax.set_ylabel(\"crossentropy loss\")\n",
        "\n",
        "x = list(range(1,epoch+1))\n",
        "\n",
        "vy = history.history['val_loss']\n",
        "ty = history.history['loss']\n",
        "plt_dynamic(x , vy,ty,ax)"
      ],
      "execution_count": 67,
      "outputs": [
        {
          "output_type": "stream",
          "text": [
            "313/313 [==============================] - 1s 2ms/step - loss: 0.2863 - accuracy: 0.9202\n",
            "test loss :  0.286345899105072\n",
            "test accuracy :  0.920199990272522\n"
          ],
          "name": "stdout"
        },
        {
          "output_type": "display_data",
          "data": {
            "image/png": "[encoded data removed]",
            "text/plain": [
              "<Figure size 432x288 with 1 Axes>"
            ]
          },
          "metadata": {
            "tags": [],
            "needs_background": "light"
          }
        }
      ]
    },
    {
      "cell_type": "code",
      "metadata": {
        "id": "KSfhqPmfktB8",
        "colab_type": "code",
        "colab": {
          "base_uri": "https://localhost:8080/",
          "height": 302
        },
        "outputId": "c93a4d1e-1fc5-418c-dc1d-6cb9fb495705"
      },
      "source": [
        "w_after = model_sigmoid.get_weights()\n",
        "\n",
        "h1_w = w_after[0].flatten().reshape(-1,1)\n",
        "h2_w = w_after[2].flatten().reshape(-1,1)\n",
        "out_w = w_after[4].flatten().reshape(-1,1)\n",
        "\n",
        "\n",
        "fig = plt.figure()\n",
        "plt.title(\"weights after model trained\")\n",
        "\n",
        "plt.subplot(1,3,1)\n",
        "plt.title(\"trained model weights\")\n",
        "sns.violinplot(y=h1_w,color='b')\n",
        "plt.xlabel(\"hidden layer 1\")\n",
        "\n",
        "\n",
        "plt.subplot(1,3,2)\n",
        "plt.title(\"trained model weights\")\n",
        "sns.violinplot(y=h2_w,color='r')\n",
        "plt.xlabel(\"hidden layer 2\")\n",
        "\n",
        "\n",
        "plt.subplot(1,3,3)\n",
        "plt.title(\"trained model weights\")\n",
        "sns.violinplot(y=out_w,color='y')\n",
        "plt.xlabel(\"output layer \")"
      ],
      "execution_count": 68,
      "outputs": [
        {
          "output_type": "execute_result",
          "data": {
            "text/plain": [
              "Text(0.5, 0, 'output layer ')"
            ]
          },
          "metadata": {
            "tags": []
          },
          "execution_count": 68
        },
        {
          "output_type": "display_data",
          "data": {
            "image/png": "[encoded data removed]",
            "text/plain": [
              "<Figure size 432x288 with 3 Axes>"
            ]
          },
          "metadata": {
            "tags": [],
            "needs_background": "light"
          }
        }
      ]
    },
    {
      "cell_type": "markdown",
      "metadata": {
        "id": "3idf0o4JoPYg",
        "colab_type": "text"
      },
      "source": [
        "# MLP + ReLU + SGD"
      ]
    },
    {
      "cell_type": "code",
      "metadata": {
        "id": "PtcHGT1ymbhO",
        "colab_type": "code",
        "colab": {
          "base_uri": "https://localhost:8080/",
          "height": 255
        },
        "outputId": "ebfc6bf7-72b7-4a4f-b8c9-0153f97feb73"
      },
      "source": [
        "# Multilayer perceptron\n",
        "\n",
        "# https://arxiv.org/pdf/1707.09725.pdf#page=95\n",
        "# for relu layers\n",
        "# If we sample weights from a normal distribution N(0,σ) we satisfy this condition with σ=√(2/(ni). \n",
        "# h1 =>  σ=√(2/(fan_in) = 0.062  => N(0,σ) = N(0,0.062)\n",
        "# h2 =>  σ=√(2/(fan_in) = 0.125  => N(0,σ) = N(0,0.125)\n",
        "# out =>  σ=√(2/(fan_in+1) = 0.120  => N(0,σ) = N(0,0.120)\n",
        "\n",
        "model_relu = Sequential()\n",
        "model_relu.add(Dense(512, activation='relu', input_shape=(input_dim,), kernel_initializer=RandomNormal(mean=0.0, stddev=0.062, seed=None)))\n",
        "model_relu.add(Dense(128, activation='relu', kernel_initializer=RandomNormal(mean=0.0, stddev=0.125, seed=None)) )\n",
        "model_relu.add(Dense(output_dim, activation='softmax'))\n",
        "\n",
        "model_relu.summary()"
      ],
      "execution_count": 69,
      "outputs": [
        {
          "output_type": "stream",
          "text": [
            "Model: \"sequential_11\"\n",
            "_________________________________________________________________\n",
            "Layer (type)                 Output Shape              Param #   \n",
            "=================================================================\n",
            "dense_26 (Dense)             (None, 512)               401920    \n",
            "_________________________________________________________________\n",
            "dense_27 (Dense)             (None, 128)               65664     \n",
            "_________________________________________________________________\n",
            "dense_28 (Dense)             (None, 10)                1290      \n",
            "=================================================================\n",
            "Total params: 468,874\n",
            "Trainable params: 468,874\n",
            "Non-trainable params: 0\n",
            "_________________________________________________________________\n"
          ],
          "name": "stdout"
        }
      ]
    },
    {
      "cell_type": "code",
      "metadata": {
        "id": "wOXvjsc8oiNJ",
        "colab_type": "code",
        "colab": {
          "base_uri": "https://localhost:8080/",
          "height": 697
        },
        "outputId": "b7be5b83-1ce8-42b8-91cf-06c97e32dd1e"
      },
      "source": [
        "model_relu.compile(optimizer='sgd', loss='categorical_crossentropy', metrics=['accuracy'])\n",
        "\n",
        "history = model_relu.fit(X_train, Y_train,epochs=epoch, verbose=1, validation_data=(X_test, Y_test))"
      ],
      "execution_count": 70,
      "outputs": [
        {
          "output_type": "stream",
          "text": [
            "Epoch 1/20\n",
            "1875/1875 [==============================] - 5s 3ms/step - loss: 0.4202 - accuracy: 0.8818 - val_loss: 0.2396 - val_accuracy: 0.9303\n",
            "Epoch 2/20\n",
            "1875/1875 [==============================] - 5s 3ms/step - loss: 0.2155 - accuracy: 0.9379 - val_loss: 0.1854 - val_accuracy: 0.9446\n",
            "Epoch 3/20\n",
            "1875/1875 [==============================] - 5s 3ms/step - loss: 0.1687 - accuracy: 0.9520 - val_loss: 0.1553 - val_accuracy: 0.9519\n",
            "Epoch 4/20\n",
            "1875/1875 [==============================] - 5s 3ms/step - loss: 0.1402 - accuracy: 0.9605 - val_loss: 0.1394 - val_accuracy: 0.9587\n",
            "Epoch 5/20\n",
            "1875/1875 [==============================] - 5s 3ms/step - loss: 0.1205 - accuracy: 0.9655 - val_loss: 0.1268 - val_accuracy: 0.9614\n",
            "Epoch 6/20\n",
            "1875/1875 [==============================] - 5s 3ms/step - loss: 0.1058 - accuracy: 0.9701 - val_loss: 0.1142 - val_accuracy: 0.9656\n",
            "Epoch 7/20\n",
            "1875/1875 [==============================] - 5s 3ms/step - loss: 0.0933 - accuracy: 0.9739 - val_loss: 0.1092 - val_accuracy: 0.9652\n",
            "Epoch 8/20\n",
            "1875/1875 [==============================] - 5s 3ms/step - loss: 0.0840 - accuracy: 0.9764 - val_loss: 0.1007 - val_accuracy: 0.9700\n",
            "Epoch 9/20\n",
            "1875/1875 [==============================] - 5s 3ms/step - loss: 0.0752 - accuracy: 0.9793 - val_loss: 0.0940 - val_accuracy: 0.9709\n",
            "Epoch 10/20\n",
            "1875/1875 [==============================] - 5s 3ms/step - loss: 0.0683 - accuracy: 0.9812 - val_loss: 0.0908 - val_accuracy: 0.9730\n",
            "Epoch 11/20\n",
            "1875/1875 [==============================] - 5s 3ms/step - loss: 0.0619 - accuracy: 0.9833 - val_loss: 0.0882 - val_accuracy: 0.9727\n",
            "Epoch 12/20\n",
            "1875/1875 [==============================] - 5s 3ms/step - loss: 0.0566 - accuracy: 0.9850 - val_loss: 0.0838 - val_accuracy: 0.9735\n",
            "Epoch 13/20\n",
            "1875/1875 [==============================] - 5s 3ms/step - loss: 0.0516 - accuracy: 0.9862 - val_loss: 0.0810 - val_accuracy: 0.9747\n",
            "Epoch 14/20\n",
            "1875/1875 [==============================] - 5s 3ms/step - loss: 0.0476 - accuracy: 0.9879 - val_loss: 0.0785 - val_accuracy: 0.9756\n",
            "Epoch 15/20\n",
            "1875/1875 [==============================] - 5s 3ms/step - loss: 0.0437 - accuracy: 0.9887 - val_loss: 0.0805 - val_accuracy: 0.9750\n",
            "Epoch 16/20\n",
            "1875/1875 [==============================] - 5s 3ms/step - loss: 0.0402 - accuracy: 0.9901 - val_loss: 0.0771 - val_accuracy: 0.9757\n",
            "Epoch 17/20\n",
            "1875/1875 [==============================] - 5s 3ms/step - loss: 0.0368 - accuracy: 0.9913 - val_loss: 0.0744 - val_accuracy: 0.9763\n",
            "Epoch 18/20\n",
            "1875/1875 [==============================] - 5s 3ms/step - loss: 0.0340 - accuracy: 0.9920 - val_loss: 0.0730 - val_accuracy: 0.9775\n",
            "Epoch 19/20\n",
            "1875/1875 [==============================] - 5s 3ms/step - loss: 0.0314 - accuracy: 0.9931 - val_loss: 0.0752 - val_accuracy: 0.9755\n",
            "Epoch 20/20\n",
            "1875/1875 [==============================] - 5s 3ms/step - loss: 0.0290 - accuracy: 0.9940 - val_loss: 0.0707 - val_accuracy: 0.9775\n"
          ],
          "name": "stdout"
        }
      ]
    },
    {
      "cell_type": "code",
      "metadata": {
        "id": "acrXb5r3ox80",
        "colab_type": "code",
        "colab": {
          "base_uri": "https://localhost:8080/",
          "height": 313
        },
        "outputId": "49f7511c-0b6a-4ff4-c625-289817d7545a"
      },
      "source": [
        "score = model_relu.evaluate(X_test, Y_test, verbose=0) \n",
        "print('Test score:', score[0]) \n",
        "print('Test accuracy:', score[1])\n",
        "\n",
        "fig,ax = plt.subplots(1,1)\n",
        "ax.set_xlabel('epoch') ; ax.set_ylabel('Categorical Crossentropy Loss')\n",
        "\n",
        "# list of epoch numbers\n",
        "x = list(range(1,epoch+1))\n",
        "\n",
        "# print(history.history.keys())\n",
        "# dict_keys(['val_loss', 'val_acc', 'loss', 'acc'])\n",
        "# history = model_drop.fit(X_train, Y_train, batch_size=batch_size, epochs=nb_epoch, verbose=1, validation_data=(X_test, Y_test))\n",
        "\n",
        "# we will get val_loss and val_acc only when you pass the paramter validation_data\n",
        "# val_loss : validation loss\n",
        "# val_acc : validation accuracy\n",
        "\n",
        "# loss : training loss\n",
        "# acc : train accuracy\n",
        "# for each key in histrory.histrory we will have a list of length equal to number of epochs\n",
        "\n",
        "vy = history.history['val_loss']\n",
        "ty = history.history['loss']\n",
        "plt_dynamic(x, vy, ty, ax)"
      ],
      "execution_count": 71,
      "outputs": [
        {
          "output_type": "stream",
          "text": [
            "Test score: 0.07067001610994339\n",
            "Test accuracy: 0.9775000214576721\n"
          ],
          "name": "stdout"
        },
        {
          "output_type": "display_data",
          "data": {
            "image/png": "[encoded data removed]",
            "text/plain": [
              "<Figure size 432x288 with 1 Axes>"
            ]
          },
          "metadata": {
            "tags": [],
            "needs_background": "light"
          }
        }
      ]
    },
    {
      "cell_type": "code",
      "metadata": {
        "id": "uC4gsppxqFej",
        "colab_type": "code",
        "colab": {
          "base_uri": "https://localhost:8080/",
          "height": 285
        },
        "outputId": "b1780525-1680-4212-a7bd-c6128fd7f098"
      },
      "source": [
        "w_after = model_relu.get_weights()\n",
        "\n",
        "h1_w = w_after[0].flatten().reshape(-1,1)\n",
        "h2_w = w_after[2].flatten().reshape(-1,1)\n",
        "out_w = w_after[4].flatten().reshape(-1,1)\n",
        "\n",
        "\n",
        "fig = plt.figure()\n",
        "plt.title(\"Weight matrices after model trained\")\n",
        "plt.subplot(1, 3, 1)\n",
        "plt.title(\"Trained model Weights\")\n",
        "ax = sns.violinplot(y=h1_w,color='b')\n",
        "plt.xlabel('Hidden Layer 1')\n",
        "\n",
        "plt.subplot(1, 3, 2)\n",
        "plt.title(\"Trained model Weights\")\n",
        "ax = sns.violinplot(y=h2_w, color='r')\n",
        "plt.xlabel('Hidden Layer 2 ')\n",
        "\n",
        "plt.subplot(1, 3, 3)\n",
        "plt.title(\"Trained model Weights\")\n",
        "ax = sns.violinplot(y=out_w,color='y')\n",
        "plt.xlabel('Output Layer ')\n",
        "plt.show()"
      ],
      "execution_count": 72,
      "outputs": [
        {
          "output_type": "display_data",
          "data": {
            "image/png": "[encoded data removed]",
            "text/plain": [
              "<Figure size 432x288 with 3 Axes>"
            ]
          },
          "metadata": {
            "tags": [],
            "needs_background": "light"
          }
        }
      ]
    },
    {
      "cell_type": "markdown",
      "metadata": {
        "id": "UseD0jkAqXYF",
        "colab_type": "text"
      },
      "source": [
        "# MLP + ReLU + ADAM"
      ]
    },
    {
      "cell_type": "code",
      "metadata": {
        "id": "VKeDvOApqMgk",
        "colab_type": "code",
        "colab": {
          "base_uri": "https://localhost:8080/",
          "height": 952
        },
        "outputId": "522e9efa-1b16-4d16-9d53-7834b44ec07d"
      },
      "source": [
        "model_relu = Sequential()\n",
        "model_relu.add(Dense(512, activation='relu', input_shape=(input_dim,), kernel_initializer=RandomNormal(mean=0.0, stddev=0.062, seed=None)))\n",
        "model_relu.add(Dense(128, activation='relu', kernel_initializer=RandomNormal(mean=0.0, stddev=0.125, seed=None)) )\n",
        "model_relu.add(Dense(output_dim, activation='softmax'))\n",
        "\n",
        "print(model_relu.summary())\n",
        "\n",
        "model_relu.compile(optimizer='adam', loss='categorical_crossentropy', metrics=['accuracy'])\n",
        "\n",
        "history = model_relu.fit(X_train, Y_train,epochs = epoch, verbose=1, validation_data=(X_test, Y_test))"
      ],
      "execution_count": 73,
      "outputs": [
        {
          "output_type": "stream",
          "text": [
            "Model: \"sequential_12\"\n",
            "_________________________________________________________________\n",
            "Layer (type)                 Output Shape              Param #   \n",
            "=================================================================\n",
            "dense_29 (Dense)             (None, 512)               401920    \n",
            "_________________________________________________________________\n",
            "dense_30 (Dense)             (None, 128)               65664     \n",
            "_________________________________________________________________\n",
            "dense_31 (Dense)             (None, 10)                1290      \n",
            "=================================================================\n",
            "Total params: 468,874\n",
            "Trainable params: 468,874\n",
            "Non-trainable params: 0\n",
            "_________________________________________________________________\n",
            "None\n",
            "Epoch 1/20\n",
            "1875/1875 [==============================] - 5s 3ms/step - loss: 0.1917 - accuracy: 0.9408 - val_loss: 0.1068 - val_accuracy: 0.9660\n",
            "Epoch 2/20\n",
            "1875/1875 [==============================] - 5s 3ms/step - loss: 0.0825 - accuracy: 0.9745 - val_loss: 0.0933 - val_accuracy: 0.9701\n",
            "Epoch 3/20\n",
            "1875/1875 [==============================] - 5s 3ms/step - loss: 0.0542 - accuracy: 0.9827 - val_loss: 0.0816 - val_accuracy: 0.9754\n",
            "Epoch 4/20\n",
            "1875/1875 [==============================] - 5s 3ms/step - loss: 0.0426 - accuracy: 0.9867 - val_loss: 0.0864 - val_accuracy: 0.9738\n",
            "Epoch 5/20\n",
            "1875/1875 [==============================] - 5s 3ms/step - loss: 0.0335 - accuracy: 0.9887 - val_loss: 0.0946 - val_accuracy: 0.9750\n",
            "Epoch 6/20\n",
            "1875/1875 [==============================] - 5s 3ms/step - loss: 0.0271 - accuracy: 0.9912 - val_loss: 0.0957 - val_accuracy: 0.9752\n",
            "Epoch 7/20\n",
            "1875/1875 [==============================] - 5s 3ms/step - loss: 0.0239 - accuracy: 0.9915 - val_loss: 0.0683 - val_accuracy: 0.9821\n",
            "Epoch 8/20\n",
            "1875/1875 [==============================] - 5s 3ms/step - loss: 0.0200 - accuracy: 0.9933 - val_loss: 0.0796 - val_accuracy: 0.9793\n",
            "Epoch 9/20\n",
            "1875/1875 [==============================] - 5s 3ms/step - loss: 0.0183 - accuracy: 0.9944 - val_loss: 0.0918 - val_accuracy: 0.9800\n",
            "Epoch 10/20\n",
            "1875/1875 [==============================] - 5s 3ms/step - loss: 0.0178 - accuracy: 0.9945 - val_loss: 0.0850 - val_accuracy: 0.9815\n",
            "Epoch 11/20\n",
            "1875/1875 [==============================] - 5s 3ms/step - loss: 0.0163 - accuracy: 0.9952 - val_loss: 0.0941 - val_accuracy: 0.9800\n",
            "Epoch 12/20\n",
            "1875/1875 [==============================] - 5s 3ms/step - loss: 0.0147 - accuracy: 0.9955 - val_loss: 0.0941 - val_accuracy: 0.9816\n",
            "Epoch 13/20\n",
            "1875/1875 [==============================] - 5s 3ms/step - loss: 0.0133 - accuracy: 0.9959 - val_loss: 0.0932 - val_accuracy: 0.9803\n",
            "Epoch 14/20\n",
            "1875/1875 [==============================] - 5s 3ms/step - loss: 0.0141 - accuracy: 0.9957 - val_loss: 0.1534 - val_accuracy: 0.9710\n",
            "Epoch 15/20\n",
            "1875/1875 [==============================] - 5s 3ms/step - loss: 0.0111 - accuracy: 0.9966 - val_loss: 0.1194 - val_accuracy: 0.9787\n",
            "Epoch 16/20\n",
            "1875/1875 [==============================] - 5s 3ms/step - loss: 0.0112 - accuracy: 0.9966 - val_loss: 0.1043 - val_accuracy: 0.9817\n",
            "Epoch 17/20\n",
            "1875/1875 [==============================] - 6s 3ms/step - loss: 0.0124 - accuracy: 0.9966 - val_loss: 0.1137 - val_accuracy: 0.9814\n",
            "Epoch 18/20\n",
            "1875/1875 [==============================] - 6s 3ms/step - loss: 0.0101 - accuracy: 0.9969 - val_loss: 0.1221 - val_accuracy: 0.9812\n",
            "Epoch 19/20\n",
            "1875/1875 [==============================] - 6s 3ms/step - loss: 0.0116 - accuracy: 0.9965 - val_loss: 0.1054 - val_accuracy: 0.9822\n",
            "Epoch 20/20\n",
            "1875/1875 [==============================] - 5s 3ms/step - loss: 0.0113 - accuracy: 0.9969 - val_loss: 0.1093 - val_accuracy: 0.9824\n"
          ],
          "name": "stdout"
        }
      ]
    },
    {
      "cell_type": "code",
      "metadata": {
        "id": "nOdWHk5Vqg8F",
        "colab_type": "code",
        "colab": {
          "base_uri": "https://localhost:8080/",
          "height": 316
        },
        "outputId": "474bfe4d-cbd5-4893-ebcb-341169d2812e"
      },
      "source": [
        "score = model_relu.evaluate(X_test, Y_test, verbose=0) \n",
        "print('Test score:', score[0]) \n",
        "print('Test accuracy:', score[1])\n",
        "\n",
        "fig,ax = plt.subplots(1,1)\n",
        "ax.set_xlabel('epoch') ; ax.set_ylabel('Categorical Crossentropy Loss')\n",
        "\n",
        "# list of epoch numbers\n",
        "x = list(range(1,epoch+1))\n",
        "\n",
        "# print(history.history.keys())\n",
        "# dict_keys(['val_loss', 'val_acc', 'loss', 'acc'])\n",
        "# history = model_drop.fit(X_train, Y_train, batch_size=batch_size, epochs=nb_epoch, verbose=1, validation_data=(X_test, Y_test))\n",
        "\n",
        "# we will get val_loss and val_acc only when you pass the paramter validation_data\n",
        "# val_loss : validation loss\n",
        "# val_acc : validation accuracy\n",
        "\n",
        "# loss : training loss\n",
        "# acc : train accuracy\n",
        "# for each key in histrory.histrory we will have a list of length equal to number of epochs\n",
        "\n",
        "\n",
        "vy = history.history['val_loss']\n",
        "ty = history.history['loss']\n",
        "plt_dynamic(x, vy, ty, ax)"
      ],
      "execution_count": 74,
      "outputs": [
        {
          "output_type": "stream",
          "text": [
            "Test score: 0.10933104157447815\n",
            "Test accuracy: 0.9824000000953674\n"
          ],
          "name": "stdout"
        },
        {
          "output_type": "display_data",
          "data": {
            "image/png": "[encoded data removed]",
            "text/plain": [
              "<Figure size 432x288 with 1 Axes>"
            ]
          },
          "metadata": {
            "tags": [],
            "needs_background": "light"
          }
        }
      ]
    },
    {
      "cell_type": "code",
      "metadata": {
        "id": "bYlmB3u-q3JU",
        "colab_type": "code",
        "colab": {
          "base_uri": "https://localhost:8080/",
          "height": 285
        },
        "outputId": "e6d076eb-fc0e-4adb-e60b-1a4f91413893"
      },
      "source": [
        "w_after = model_relu.get_weights()\n",
        "\n",
        "h1_w = w_after[0].flatten().reshape(-1,1)\n",
        "h2_w = w_after[2].flatten().reshape(-1,1)\n",
        "out_w = w_after[4].flatten().reshape(-1,1)\n",
        "\n",
        "\n",
        "fig = plt.figure()\n",
        "plt.title(\"Weight matrices after model trained\")\n",
        "plt.subplot(1, 3, 1)\n",
        "plt.title(\"Trained model Weights\")\n",
        "ax = sns.violinplot(y=h1_w,color='b')\n",
        "plt.xlabel('Hidden Layer 1')\n",
        "\n",
        "plt.subplot(1, 3, 2)\n",
        "plt.title(\"Trained model Weights\")\n",
        "ax = sns.violinplot(y=h2_w, color='r')\n",
        "plt.xlabel('Hidden Layer 2 ')\n",
        "\n",
        "plt.subplot(1, 3, 3)\n",
        "plt.title(\"Trained model Weights\")\n",
        "ax = sns.violinplot(y=out_w,color='y')\n",
        "plt.xlabel('Output Layer ')\n",
        "plt.show()"
      ],
      "execution_count": 75,
      "outputs": [
        {
          "output_type": "display_data",
          "data": {
            "image/png": "[encoded data removed]",
            "text/plain": [
              "<Figure size 432x288 with 3 Axes>"
            ]
          },
          "metadata": {
            "tags": [],
            "needs_background": "light"
          }
        }
      ]
    },
    {
      "cell_type": "markdown",
      "metadata": {
        "id": "rFxxhiLbrUil",
        "colab_type": "text"
      },
      "source": [
        "# MLP + Batch norm on hidden layer + ADAM"
      ]
    },
    {
      "cell_type": "code",
      "metadata": {
        "id": "yctkxp2Rq-E7",
        "colab_type": "code",
        "colab": {
          "base_uri": "https://localhost:8080/",
          "height": 323
        },
        "outputId": "ddb8c411-d7e4-4fa4-dbdc-2685822790c1"
      },
      "source": [
        "# Multilayer perceptron\n",
        "\n",
        "# https://intoli.com/blog/neural-network-initialization/ \n",
        "# If we sample weights from a normal distribution N(0,σ) we satisfy this condition with σ=√(2/(ni+ni+1). \n",
        "# h1 =>  σ=√(2/(ni+ni+1) = 0.039  => N(0,σ) = N(0,0.039)\n",
        "# h2 =>  σ=√(2/(ni+ni+1) = 0.055  => N(0,σ) = N(0,0.055)\n",
        "# h1 =>  σ=√(2/(ni+ni+1) = 0.120  => N(0,σ) = N(0,0.120)\n",
        "\n",
        "\n",
        "from keras.layers.normalization import BatchNormalization\n",
        "\n",
        "model_batch = Sequential()\n",
        "model_batch.add(Dense(512,activation='sigmoid', input_shape=(input_dim,),kernel_initializer=RandomNormal(mean = 0.0,stddev=0.039)))\n",
        "model_batch.add(BatchNormalization())\n",
        "\n",
        "model_batch.add(Dense(128,activation='sigmoid',kernel_initializer=RandomNormal(stddev=0.039)))\n",
        "model_batch.add(BatchNormalization())\n",
        "\n",
        "model_batch.add(Dense(output_dim,activation='softmax'))\n",
        "\n",
        "model_batch.summary()"
      ],
      "execution_count": 76,
      "outputs": [
        {
          "output_type": "stream",
          "text": [
            "Model: \"sequential_13\"\n",
            "_________________________________________________________________\n",
            "Layer (type)                 Output Shape              Param #   \n",
            "=================================================================\n",
            "dense_32 (Dense)             (None, 512)               401920    \n",
            "_________________________________________________________________\n",
            "batch_normalization_4 (Batch (None, 512)               2048      \n",
            "_________________________________________________________________\n",
            "dense_33 (Dense)             (None, 128)               65664     \n",
            "_________________________________________________________________\n",
            "batch_normalization_5 (Batch (None, 128)               512       \n",
            "_________________________________________________________________\n",
            "dense_34 (Dense)             (None, 10)                1290      \n",
            "=================================================================\n",
            "Total params: 471,434\n",
            "Trainable params: 470,154\n",
            "Non-trainable params: 1,280\n",
            "_________________________________________________________________\n"
          ],
          "name": "stdout"
        }
      ]
    },
    {
      "cell_type": "code",
      "metadata": {
        "id": "_1vuUdJ-sz1w",
        "colab_type": "code",
        "colab": {
          "base_uri": "https://localhost:8080/",
          "height": 697
        },
        "outputId": "b61e41c8-c977-4ee3-b87d-2a265d73e2c5"
      },
      "source": [
        "model_batch.compile(optimizer='adam', loss='categorical_crossentropy', metrics=['accuracy'])\n",
        "\n",
        "history = model_batch.fit(X_train, Y_train, epochs = epoch, verbose=1, validation_data=(X_test, Y_test))"
      ],
      "execution_count": 77,
      "outputs": [
        {
          "output_type": "stream",
          "text": [
            "Epoch 1/20\n",
            "1875/1875 [==============================] - 7s 4ms/step - loss: 0.2762 - accuracy: 0.9180 - val_loss: 0.1509 - val_accuracy: 0.9561\n",
            "Epoch 2/20\n",
            "1875/1875 [==============================] - 7s 4ms/step - loss: 0.1515 - accuracy: 0.9545 - val_loss: 0.1085 - val_accuracy: 0.9679\n",
            "Epoch 3/20\n",
            "1875/1875 [==============================] - 7s 4ms/step - loss: 0.1076 - accuracy: 0.9669 - val_loss: 0.0933 - val_accuracy: 0.9717\n",
            "Epoch 4/20\n",
            "1875/1875 [==============================] - 7s 4ms/step - loss: 0.0849 - accuracy: 0.9735 - val_loss: 0.0767 - val_accuracy: 0.9772\n",
            "Epoch 5/20\n",
            "1875/1875 [==============================] - 7s 4ms/step - loss: 0.0681 - accuracy: 0.9783 - val_loss: 0.0791 - val_accuracy: 0.9759\n",
            "Epoch 6/20\n",
            "1875/1875 [==============================] - 7s 4ms/step - loss: 0.0534 - accuracy: 0.9829 - val_loss: 0.0692 - val_accuracy: 0.9797\n",
            "Epoch 7/20\n",
            "1875/1875 [==============================] - 7s 4ms/step - loss: 0.0442 - accuracy: 0.9857 - val_loss: 0.0803 - val_accuracy: 0.9759\n",
            "Epoch 8/20\n",
            "1875/1875 [==============================] - 7s 4ms/step - loss: 0.0410 - accuracy: 0.9867 - val_loss: 0.0725 - val_accuracy: 0.9789\n",
            "Epoch 9/20\n",
            "1875/1875 [==============================] - 7s 4ms/step - loss: 0.0326 - accuracy: 0.9889 - val_loss: 0.0791 - val_accuracy: 0.9769\n",
            "Epoch 10/20\n",
            "1875/1875 [==============================] - 7s 4ms/step - loss: 0.0288 - accuracy: 0.9904 - val_loss: 0.0693 - val_accuracy: 0.9801\n",
            "Epoch 11/20\n",
            "1875/1875 [==============================] - 7s 4ms/step - loss: 0.0264 - accuracy: 0.9913 - val_loss: 0.0765 - val_accuracy: 0.9786\n",
            "Epoch 12/20\n",
            "1875/1875 [==============================] - 7s 4ms/step - loss: 0.0241 - accuracy: 0.9921 - val_loss: 0.0761 - val_accuracy: 0.9807\n",
            "Epoch 13/20\n",
            "1875/1875 [==============================] - 7s 4ms/step - loss: 0.0215 - accuracy: 0.9924 - val_loss: 0.0765 - val_accuracy: 0.9802\n",
            "Epoch 14/20\n",
            "1875/1875 [==============================] - 7s 4ms/step - loss: 0.0189 - accuracy: 0.9938 - val_loss: 0.0701 - val_accuracy: 0.9809\n",
            "Epoch 15/20\n",
            "1875/1875 [==============================] - 7s 4ms/step - loss: 0.0164 - accuracy: 0.9944 - val_loss: 0.0800 - val_accuracy: 0.9805\n",
            "Epoch 16/20\n",
            "1875/1875 [==============================] - 7s 4ms/step - loss: 0.0194 - accuracy: 0.9934 - val_loss: 0.0829 - val_accuracy: 0.9803\n",
            "Epoch 17/20\n",
            "1875/1875 [==============================] - 7s 4ms/step - loss: 0.0160 - accuracy: 0.9944 - val_loss: 0.0772 - val_accuracy: 0.9817\n",
            "Epoch 18/20\n",
            "1875/1875 [==============================] - 7s 4ms/step - loss: 0.0145 - accuracy: 0.9951 - val_loss: 0.0835 - val_accuracy: 0.9799\n",
            "Epoch 19/20\n",
            "1875/1875 [==============================] - 7s 4ms/step - loss: 0.0165 - accuracy: 0.9943 - val_loss: 0.0934 - val_accuracy: 0.9782\n",
            "Epoch 20/20\n",
            "1875/1875 [==============================] - 7s 4ms/step - loss: 0.0134 - accuracy: 0.9959 - val_loss: 0.0770 - val_accuracy: 0.9816\n"
          ],
          "name": "stdout"
        }
      ]
    },
    {
      "cell_type": "code",
      "metadata": {
        "id": "_KYxKGsitVT4",
        "colab_type": "code",
        "colab": {
          "base_uri": "https://localhost:8080/",
          "height": 313
        },
        "outputId": "049c10ca-43f0-4930-82eb-a35cceff54bd"
      },
      "source": [
        "score = model_batch.evaluate(X_test, Y_test, verbose=0) \n",
        "print('Test score:', score[0]) \n",
        "print('Test accuracy:', score[1])\n",
        "\n",
        "fig,ax = plt.subplots(1,1)\n",
        "ax.set_xlabel('epoch') ; ax.set_ylabel('Categorical Crossentropy Loss')\n",
        "\n",
        "# list of epoch numbers\n",
        "x = list(range(1,epoch+1))\n",
        "\n",
        "# print(history.history.keys())\n",
        "# dict_keys(['val_loss', 'val_acc', 'loss', 'acc'])\n",
        "# history = model_drop.fit(X_train, Y_train, batch_size=batch_size, epochs=nb_epoch, verbose=1, validation_data=(X_test, Y_test))\n",
        "\n",
        "# we will get val_loss and val_acc only when you pass the paramter validation_data\n",
        "# val_loss : validation loss\n",
        "# val_acc : validation accuracy\n",
        "\n",
        "# loss : training loss\n",
        "# acc : train accuracy\n",
        "# for each key in histrory.histrory we will have a list of length equal to number of epochs\n",
        "\n",
        "vy = history.history['val_loss']\n",
        "ty = history.history['loss']\n",
        "plt_dynamic(x, vy, ty, ax)"
      ],
      "execution_count": 78,
      "outputs": [
        {
          "output_type": "stream",
          "text": [
            "Test score: 0.07696989923715591\n",
            "Test accuracy: 0.9815999865531921\n"
          ],
          "name": "stdout"
        },
        {
          "output_type": "display_data",
          "data": {
            "image/png": "[encoded data removed]",
            "text/plain": [
              "<Figure size 432x288 with 1 Axes>"
            ]
          },
          "metadata": {
            "tags": [],
            "needs_background": "light"
          }
        }
      ]
    },
    {
      "cell_type": "code",
      "metadata": {
        "id": "USZm24wDu73A",
        "colab_type": "code",
        "colab": {
          "base_uri": "https://localhost:8080/",
          "height": 285
        },
        "outputId": "a6322e24-8d70-4940-cc59-7e6433a082ac"
      },
      "source": [
        "w_after = model_batch.get_weights()\n",
        "\n",
        "h1_w = w_after[0].flatten().reshape(-1,1)\n",
        "h2_w = w_after[2].flatten().reshape(-1,1)\n",
        "out_w = w_after[4].flatten().reshape(-1,1)\n",
        "\n",
        "\n",
        "fig = plt.figure()\n",
        "plt.title(\"Weight matrices after model trained\")\n",
        "plt.subplot(1, 3, 1)\n",
        "plt.title(\"Trained model Weights\")\n",
        "ax = sns.violinplot(y=h1_w,color='b')\n",
        "plt.xlabel('Hidden Layer 1')\n",
        "\n",
        "plt.subplot(1, 3, 2)\n",
        "plt.title(\"Trained model Weights\")\n",
        "ax = sns.violinplot(y=h2_w, color='r')\n",
        "plt.xlabel('Hidden Layer 2 ')\n",
        "\n",
        "plt.subplot(1, 3, 3)\n",
        "plt.title(\"Trained model Weights\")\n",
        "ax = sns.violinplot(y=out_w,color='y')\n",
        "plt.xlabel('Output Layer ')\n",
        "plt.show()"
      ],
      "execution_count": 79,
      "outputs": [
        {
          "output_type": "display_data",
          "data": {
            "image/png": "[encoded data removed]",
            "text/plain": [
              "<Figure size 432x288 with 3 Axes>"
            ]
          },
          "metadata": {
            "tags": [],
            "needs_background": "light"
          }
        }
      ]
    },
    {
      "cell_type": "markdown",
      "metadata": {
        "id": "2jRPd1TivP0m",
        "colab_type": "text"
      },
      "source": [
        "# MLP + Dropout+ADAM"
      ]
    },
    {
      "cell_type": "code",
      "metadata": {
        "id": "kcBzL17TvGbZ",
        "colab_type": "code",
        "colab": {
          "base_uri": "https://localhost:8080/",
          "height": 391
        },
        "outputId": "8273f174-c61c-4dc7-90a7-6ae4387c9a28"
      },
      "source": [
        "# https://stackoverflow.com/questions/34716454/where-do-i-call-the-batchnormalization-function-in-keras\n",
        "\n",
        "from keras.layers import Dropout\n",
        "\n",
        "model_drop = Sequential()\n",
        "\n",
        "model_drop.add(Dense(512, activation='sigmoid', input_shape=(input_dim,), kernel_initializer=RandomNormal(mean=0.0, stddev=0.039, seed=None)))\n",
        "model_drop.add(BatchNormalization())\n",
        "model_drop.add(Dropout(0.5))\n",
        "\n",
        "model_drop.add(Dense(128, activation='sigmoid', kernel_initializer=RandomNormal(mean=0.0, stddev=0.55, seed=None)) )\n",
        "model_drop.add(BatchNormalization())\n",
        "model_drop.add(Dropout(0.5))\n",
        "\n",
        "model_drop.add(Dense(output_dim, activation='softmax'))\n",
        "\n",
        "\n",
        "model_drop.summary()"
      ],
      "execution_count": 80,
      "outputs": [
        {
          "output_type": "stream",
          "text": [
            "Model: \"sequential_14\"\n",
            "_________________________________________________________________\n",
            "Layer (type)                 Output Shape              Param #   \n",
            "=================================================================\n",
            "dense_35 (Dense)             (None, 512)               401920    \n",
            "_________________________________________________________________\n",
            "batch_normalization_6 (Batch (None, 512)               2048      \n",
            "_________________________________________________________________\n",
            "dropout_2 (Dropout)          (None, 512)               0         \n",
            "_________________________________________________________________\n",
            "dense_36 (Dense)             (None, 128)               65664     \n",
            "_________________________________________________________________\n",
            "batch_normalization_7 (Batch (None, 128)               512       \n",
            "_________________________________________________________________\n",
            "dropout_3 (Dropout)          (None, 128)               0         \n",
            "_________________________________________________________________\n",
            "dense_37 (Dense)             (None, 10)                1290      \n",
            "=================================================================\n",
            "Total params: 471,434\n",
            "Trainable params: 470,154\n",
            "Non-trainable params: 1,280\n",
            "_________________________________________________________________\n"
          ],
          "name": "stdout"
        }
      ]
    },
    {
      "cell_type": "code",
      "metadata": {
        "id": "eug_jf2tvcNe",
        "colab_type": "code",
        "colab": {
          "base_uri": "https://localhost:8080/",
          "height": 697
        },
        "outputId": "9ccc47af-bd11-497d-b1e1-e26146c1b366"
      },
      "source": [
        "model_drop.compile(optimizer='adam', loss='categorical_crossentropy', metrics=['accuracy'])\n",
        "\n",
        "history = model_drop.fit(X_train, Y_train,  epochs = epoch, verbose=1, validation_data=(X_test, Y_test))"
      ],
      "execution_count": 81,
      "outputs": [
        {
          "output_type": "stream",
          "text": [
            "Epoch 1/20\n",
            "1875/1875 [==============================] - 7s 4ms/step - loss: 0.6341 - accuracy: 0.8050 - val_loss: 0.2757 - val_accuracy: 0.9198\n",
            "Epoch 2/20\n",
            "1875/1875 [==============================] - 7s 4ms/step - loss: 0.4422 - accuracy: 0.8653 - val_loss: 0.2436 - val_accuracy: 0.9304\n",
            "Epoch 3/20\n",
            "1875/1875 [==============================] - 7s 4ms/step - loss: 0.3985 - accuracy: 0.8786 - val_loss: 0.2197 - val_accuracy: 0.9360\n",
            "Epoch 4/20\n",
            "1875/1875 [==============================] - 7s 4ms/step - loss: 0.3579 - accuracy: 0.8911 - val_loss: 0.1943 - val_accuracy: 0.9422\n",
            "Epoch 5/20\n",
            "1875/1875 [==============================] - 7s 4ms/step - loss: 0.3308 - accuracy: 0.8995 - val_loss: 0.1683 - val_accuracy: 0.9507\n",
            "Epoch 6/20\n",
            "1875/1875 [==============================] - 7s 4ms/step - loss: 0.2970 - accuracy: 0.9097 - val_loss: 0.1580 - val_accuracy: 0.9515\n",
            "Epoch 7/20\n",
            "1875/1875 [==============================] - 7s 4ms/step - loss: 0.2736 - accuracy: 0.9193 - val_loss: 0.1393 - val_accuracy: 0.9603\n",
            "Epoch 8/20\n",
            "1875/1875 [==============================] - 7s 4ms/step - loss: 0.2471 - accuracy: 0.9256 - val_loss: 0.1300 - val_accuracy: 0.9625\n",
            "Epoch 9/20\n",
            "1875/1875 [==============================] - 7s 4ms/step - loss: 0.2349 - accuracy: 0.9299 - val_loss: 0.1231 - val_accuracy: 0.9637\n",
            "Epoch 10/20\n",
            "1875/1875 [==============================] - 7s 4ms/step - loss: 0.2167 - accuracy: 0.9356 - val_loss: 0.1104 - val_accuracy: 0.9670\n",
            "Epoch 11/20\n",
            "1875/1875 [==============================] - 7s 4ms/step - loss: 0.2047 - accuracy: 0.9383 - val_loss: 0.1106 - val_accuracy: 0.9682\n",
            "Epoch 12/20\n",
            "1875/1875 [==============================] - 7s 4ms/step - loss: 0.1970 - accuracy: 0.9418 - val_loss: 0.1062 - val_accuracy: 0.9696\n",
            "Epoch 13/20\n",
            "1875/1875 [==============================] - 7s 4ms/step - loss: 0.1866 - accuracy: 0.9452 - val_loss: 0.0979 - val_accuracy: 0.9709\n",
            "Epoch 14/20\n",
            "1875/1875 [==============================] - 7s 4ms/step - loss: 0.1774 - accuracy: 0.9473 - val_loss: 0.0949 - val_accuracy: 0.9707\n",
            "Epoch 15/20\n",
            "1875/1875 [==============================] - 7s 4ms/step - loss: 0.1702 - accuracy: 0.9489 - val_loss: 0.0908 - val_accuracy: 0.9738\n",
            "Epoch 16/20\n",
            "1875/1875 [==============================] - 7s 4ms/step - loss: 0.1629 - accuracy: 0.9522 - val_loss: 0.0866 - val_accuracy: 0.9739\n",
            "Epoch 17/20\n",
            "1875/1875 [==============================] - 7s 4ms/step - loss: 0.1533 - accuracy: 0.9537 - val_loss: 0.0882 - val_accuracy: 0.9742\n",
            "Epoch 18/20\n",
            "1875/1875 [==============================] - 7s 4ms/step - loss: 0.1510 - accuracy: 0.9547 - val_loss: 0.0836 - val_accuracy: 0.9751\n",
            "Epoch 19/20\n",
            "1875/1875 [==============================] - 7s 4ms/step - loss: 0.1471 - accuracy: 0.9567 - val_loss: 0.0809 - val_accuracy: 0.9757\n",
            "Epoch 20/20\n",
            "1875/1875 [==============================] - 7s 4ms/step - loss: 0.1407 - accuracy: 0.9582 - val_loss: 0.0749 - val_accuracy: 0.9777\n"
          ],
          "name": "stdout"
        }
      ]
    },
    {
      "cell_type": "code",
      "metadata": {
        "id": "Ob9340KCvkss",
        "colab_type": "code",
        "colab": {
          "base_uri": "https://localhost:8080/",
          "height": 313
        },
        "outputId": "eed640b5-369f-4382-c11f-5bc7e671974c"
      },
      "source": [
        "score = model_drop.evaluate(X_test, Y_test, verbose=0) \n",
        "print('Test score:', score[0]) \n",
        "print('Test accuracy:', score[1])\n",
        "\n",
        "fig,ax = plt.subplots(1,1)\n",
        "ax.set_xlabel('epoch') ; ax.set_ylabel('Categorical Crossentropy Loss')\n",
        "\n",
        "# list of epoch numbers\n",
        "x = list(range(1,epoch+1))\n",
        "\n",
        "# print(history.history.keys())\n",
        "# dict_keys(['val_loss', 'val_acc', 'loss', 'acc'])\n",
        "# history = model_drop.fit(X_train, Y_train, batch_size=batch_size, epochs=nb_epoch, verbose=1, validation_data=(X_test, Y_test))\n",
        "\n",
        "# we will get val_loss and val_acc only when you pass the paramter validation_data\n",
        "# val_loss : validation loss\n",
        "# val_acc : validation accuracy\n",
        "\n",
        "# loss : training loss\n",
        "# acc : train accuracy\n",
        "# for each key in histrory.histrory we will have a list of length equal to number of epochs\n",
        "\n",
        "vy = history.history['val_loss']\n",
        "ty = history.history['loss']\n",
        "plt_dynamic(x, vy, ty, ax)"
      ],
      "execution_count": 82,
      "outputs": [
        {
          "output_type": "stream",
          "text": [
            "Test score: 0.07490406185388565\n",
            "Test accuracy: 0.9776999950408936\n"
          ],
          "name": "stdout"
        },
        {
          "output_type": "display_data",
          "data": {
            "image/png": "[encoded data removed]",
            "text/plain": [
              "<Figure size 432x288 with 1 Axes>"
            ]
          },
          "metadata": {
            "tags": [],
            "needs_background": "light"
          }
        }
      ]
    },
    {
      "cell_type": "code",
      "metadata": {
        "id": "KF836wZYwBTD",
        "colab_type": "code",
        "colab": {
          "base_uri": "https://localhost:8080/",
          "height": 285
        },
        "outputId": "6396d767-cfdc-4853-9809-0c42d023aac7"
      },
      "source": [
        "w_after = model_drop.get_weights()\n",
        "\n",
        "h1_w = w_after[0].flatten().reshape(-1,1)\n",
        "h2_w = w_after[2].flatten().reshape(-1,1)\n",
        "out_w = w_after[4].flatten().reshape(-1,1)\n",
        "\n",
        "\n",
        "fig = plt.figure()\n",
        "plt.title(\"Weight matrices after model trained\")\n",
        "plt.subplot(1, 3, 1)\n",
        "plt.title(\"Trained model Weights\")\n",
        "ax = sns.violinplot(y=h1_w,color='b')\n",
        "plt.xlabel('Hidden Layer 1')\n",
        "\n",
        "plt.subplot(1, 3, 2)\n",
        "plt.title(\"Trained model Weights\")\n",
        "ax = sns.violinplot(y=h2_w, color='r')\n",
        "plt.xlabel('Hidden Layer 2 ')\n",
        "\n",
        "plt.subplot(1, 3, 3)\n",
        "plt.title(\"Trained model Weights\")\n",
        "ax = sns.violinplot(y=out_w,color='y')\n",
        "plt.xlabel('Output Layer ')\n",
        "plt.show()"
      ],
      "execution_count": 83,
      "outputs": [
        {
          "output_type": "display_data",
          "data": {
            "image/png": "[encoded data removed]",
            "text/plain": [
              "<Figure size 432x288 with 3 Axes>"
            ]
          },
          "metadata": {
            "tags": [],
            "needs_background": "light"
          }
        }
      ]
    },
    {
      "cell_type": "markdown",
      "metadata": {
        "id": "HrZVoTRgw7j2",
        "colab_type": "text"
      },
      "source": [
        "# Hyper Parameter tuning using keras"
      ]
    },
    {
      "cell_type": "code",
      "metadata": {
        "id": "tuF4S2AIwZPw",
        "colab_type": "code",
        "colab": {}
      },
      "source": [
        "from keras.optimizers import Adam,RMSprop,SGD\n",
        "def best_hyperparameters(activ):\n",
        "    model = Sequential()\n",
        "    model.add(Dense(512, activation=activ, input_shape=(input_dim,), kernel_initializer=RandomNormal(mean=0.0, stddev=0.062, seed=None)))\n",
        "    model.add(Dense(128, activation=activ, kernel_initializer=RandomNormal(mean=0.0, stddev=0.125, seed=None)) )\n",
        "    model.add(Dense(output_dim, activation='softmax'))\n",
        "\n",
        "\n",
        "    model.compile(loss='categorical_crossentropy', metrics=['accuracy'], optimizer='adam')\n",
        "    \n",
        "    return model"
      ],
      "execution_count": 91,
      "outputs": []
    },
    {
      "cell_type": "code",
      "metadata": {
        "id": "FBL_bEZCyKvJ",
        "colab_type": "code",
        "colab": {}
      },
      "source": [
        "# https://machinelearningmastery.com/grid-search-hyperparameters-deep-learning-models-python-keras/\n",
        "\n",
        "activ = ['sigmoid','relu']\n",
        "\n",
        "from keras.wrappers.scikit_learn import KerasClassifier\n",
        "from sklearn.model_selection import GridSearchCV\n",
        "\n",
        "model = KerasClassifier(build_fn=best_hyperparameters,verbose=0)\n",
        "param_grid = dict(activ=activ)\n",
        "\n",
        "# if you are using CPU\n",
        "# grid = GridSearchCV(estimator=model, param_grid=param_grid, n_jobs=-1)\n",
        "# if you are using GPU dont use the n_jobs parameter\n",
        "\n",
        "grid = GridSearchCV(estimator=model, param_grid=param_grid)\n",
        "grid_result = grid.fit(X_train, Y_train)"
      ],
      "execution_count": 93,
      "outputs": []
    },
    {
      "cell_type": "code",
      "metadata": {
        "id": "gzSXTmgFyiaZ",
        "colab_type": "code",
        "colab": {
          "base_uri": "https://localhost:8080/",
          "height": 68
        },
        "outputId": "18d9a4da-7e54-4548-dbfd-7c32a1e60aac"
      },
      "source": [
        "print(\"Best: %f using %s\" % (grid_result.best_score_, grid_result.best_params_))\n",
        "means = grid_result.cv_results_['mean_test_score']\n",
        "stds = grid_result.cv_results_['std_test_score']\n",
        "params = grid_result.cv_results_['params']\n",
        "for mean, stdev, param in zip(means, stds, params):\n",
        "    print(\"%f (%f) with: %r\" % (mean, stdev, param))"
      ],
      "execution_count": 94,
      "outputs": [
        {
          "output_type": "stream",
          "text": [
            "Best: 0.963250 using {'activ': 'relu'}\n",
            "0.933467 (0.004721) with: {'activ': 'sigmoid'}\n",
            "0.963250 (0.004188) with: {'activ': 'relu'}\n"
          ],
          "name": "stdout"
        }
      ]
    },
    {
      "cell_type": "code",
      "metadata": {
        "id": "8lb5PmJkDAAN",
        "colab_type": "code",
        "colab": {}
      },
      "source": [
        ""
      ],
      "execution_count": null,
      "outputs": []
    }
  ]
}